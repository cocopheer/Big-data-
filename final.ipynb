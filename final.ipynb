{
 "cells": [
  {
   "cell_type": "markdown",
   "metadata": {},
   "source": [
    "# Analysis of Yelp Open Dataset with PySpark\n",
    "\n",
    "##### Abstract:\n",
    "\n",
    "This project is aimed to query and analyze the Yelp Open Dataset using PySpark, Spark SQL alongside with built-in packages and functional APIs. A subset of Yelp datasets is selected to perform different analytical tasks ranging from finding the Top businesses from a specific city to performing collaborative filtering on recommender systems. The use of Graph data processing is also discussed. The goal is to explore the dataset using a wide range of tools in order to drive valuable insights and produce interesting results. "
   ]
  },
  {
   "cell_type": "markdown",
   "metadata": {},
   "source": [
    "## Table of contents\n",
    "1.  Introduction\n",
    "2. The dataset\n",
    "3. Initialization\n",
    "    1. create bucket and upload files \n",
    "    2. create dataproc cluster and launch jupyter notebook\n",
    "4. Data Exploration\n",
    "    1. Querying with the DataFrame API\n",
    "    2. RDD and partitioning\n",
    "    3. Querying with Spark SQL\n",
    "5. Sentiment analysis on review data\n",
    "    1. Tokenization and preprocessing\n",
    "    2. Model fitting\n",
    "6. Restaurants recommendations using ALS\n",
    "    1. Model fitting\n",
    "    2. Tuning parameters\n",
    "    3. Computation times with different number of partitions\n",
    "7. Graph Data processing\n",
    "    1. Building the graph\n",
    "    2. Breath First Search (BFS)\n",
    "    3. Motif finding queries\n",
    "8. Conclusion\n",
    "9. References"
   ]
  },
  {
   "cell_type": "markdown",
   "metadata": {},
   "source": [
    "## Introduction\n",
    "\n",
    "### Apache Spark\n",
    "\n",
    "Apache Spark is a fast and general-purpose cluster computing system. It provides high-level APIs in Java, Scala, Python and R, and an optimized engine that supports general execution graphs. It also supports a rich set of higher-level tools including Spark SQL for SQL and structured data processing, MLlib for machine learning, GraphX for graph processing, and Spark Streaming.[1] \n",
    "\n",
    "Apache Spark achieves high performance for both batch and streaming data, using a state-of-the-art DAG scheduler, a query optimizer, and a physical execution engine. [2]\n",
    "\n",
    "*Figure 1: Logistic regression in Hadoop and Spark*\n",
    "![](s1.png)\n",
    "Source: https://spark.apache.org/\n",
    "\n",
    "Spark powers a stack of libraries including SQL and DataFrames, MLlib for machine learning, GraphX, and Spark Streaming. You can combine these libraries seamlessly in the same application.\n",
    "![](s2.png)\n",
    "Source: https://spark.apache.org/"
   ]
  },
  {
   "cell_type": "markdown",
   "metadata": {},
   "source": [
    "## Pipeline\n",
    "\n",
    "This section introduces the concept of **ML Pipelines**. **ML Pipelines** provide a uniform set of high-level APIs built on top of DataFrames that help users create and tune practical machine learning pipelines.\n",
    "\n",
    "In machine learning, it is common to run a sequence of algorithms to process and learn from data. E.g., a Natural Language processing workflow might include several stages:\n",
    "\n",
    "* Split each document’s text into words.\n",
    "* Convert each document’s words into a numerical feature vector.\n",
    "* Learn a prediction model using the feature vectors and labels.\n",
    "\n",
    "PySpark MLlib represents such a workflow as a Pipeline, which consists of a sequence of PipelineStages (Transformers and Estimators) to be run in a specific order. \n",
    "![](ml-Pipeline.png)\n",
    "\n",
    "Above, the top row represents a Pipeline with three stages. The first two (`Tokenizer` and `HashingTF`) are `Transformers` (blue), and the third (`LogisticRegression`) is an `Estimator` (red). The bottom row represents data flowing through the pipeline, where cylinders indicate DataFrames. The `Pipeline.fit()` method is called on the original DataFrame, which has raw text documents and labels. The `Tokenizer.transform()` method splits the raw text documents into words, adding a new column with words to the DataFrame. The `HashingTF.transform()` method converts the words column into feature vectors, adding a new column with those vectors to the DataFrame. Now, since **LogisticRegression** is an Estimator, the Pipeline first calls `LogisticRegression.fit()` to produce a LogisticRegressionModel. If the Pipeline had more Estimators, it would call the LogisticRegressionModel’s `transform()` method on the DataFrame before passing the DataFrame to the next stage.\n",
    "![](ml-Pipeline.png)\n",
    "\n",
    "In the figure above, the PipelineModel has the same number of stages as the original Pipeline, but all Estimators in the original Pipeline have become Transformers. When the PipelineModel’s transform() method is called on a test dataset, the data are passed through the fitted pipeline in order. Each stage’s `transform()` method updates the dataset and passes it to the next stage. [1]https://spark.apache.org/docs/latest/ml-pipeline.html .\n"
   ]
  },
  {
   "cell_type": "markdown",
   "metadata": {},
   "source": [
    "## Collaborative filtering \n",
    "\n",
    "One of the strategies of recommender systems is collaborative filtering, which analyzes relationships between users and interdependencies among products[4]. The standard approach to matrix factorization based collaborative filtering treats the entries in the user-item matrix as explicit preferences given by the user to the item, for example, users giving ratings to movies.\n",
    "\n",
    "It is common in many real-world use cases to only have access to implicit feedback [5]. spark.ml currently supports model-based collaborative filtering, in which users and products are described by a small set of latent factors that can be used to predict missing entries. `spark.ml` uses the alternating least squares (ALS) algorithm to learn these latent factors. Alternating Least Square (ALS) with `spark.ml`\n",
    "is a matrix factorization algorithm and it runs itself in a parallel fashion.  ALS perfoms well in solving scalability and sparseness of the Ratings data, and it’s simple and scales well to very large datasets. ALS runs its gradient descent in parallel across multiple partitions of the underlying training data from a cluster of machines.\n",
    "\n",
    "In section 6, an ALS example will be given to demonstrate the use in Spark."
   ]
  },
  {
   "cell_type": "markdown",
   "metadata": {},
   "source": [
    "## GraphX \n",
    "\n",
    "GraphX, built on top of Apache Spark, is an embedded graph processing framework and distributed dataflow system. Graph processing systems can naturally express and efficiently execute iterative graph algorithms like PageRank and cummunity detection on graphs with billions of vertices and edges, which typically outperform distributed dataflow frameworks like Hadoop MapReduce by orders of magnitude.[6]\n",
    "\n",
    "*Figure 2: GraphX is a thin layer on top of the Spark general-purpose dataflow framework*\n",
    "![](s3.png)\n",
    "Source: [6]\n",
    "\n",
    "The GraphX API enables the coposition of graphs with unstructured and tabular data and allows the same physical data to be viewed both as a graph and as collections without data movement or duplication. Not only does GraphX support existing graph-parallel abstractions and a wide range of iterative graph algorithms, it enables the composition of graphs and collections, freeing the user to adopt the most natural view without concern for data movement or duplication. \n",
    "\n",
    "*Figure 3: Distributed Graph Representation*\n",
    "![](s4.png)\n",
    "Source: [6]\n",
    "\n",
    "**GraphFrames** is a package for Apache Spark that provides DataFrame-based graphs. It provides high-level APIs in Java, Python, and Scala. It aims to provide both the functionality of GraphX and extended functionality taking advantage of Spark DataFrames.[7]\n",
    "\n",
    "In section 7, the use of GraphFrames will be demonstrated."
   ]
  },
  {
   "cell_type": "markdown",
   "metadata": {},
   "source": [
    "## The Yelp Open Dataset\n",
    "\n",
    "![](yelp.png)\n",
    "\n",
    "The [Yelp Open Dataset](https://www.yelp.com/dataset) is a subset of businesses, reviews, and user data for use in personal, educational, and academic purposes collected by Yelp. The datast contains information about 8021,122 reviews, 209,393 businesses from 10 metropolitan areas. As well as over 1.4 million business attributes like hours, parking, availability. \n",
    "\n",
    "The dataset includes User (registered members of Yelp), Business (including Category of each Business), Review written by User on Business, Tip given by User for general comment on Business, and others. It contains 6 individual JSON files. See [Documentation](https://www.yelp.com/dataset/documentation/main) for details.\n",
    "\n",
    "This project focuses on **business**, **user** and **review**. \n",
    "* `business.json` includes `business_id`, `name`, `categories`, `stars`(float, star rating, rounded to half-stars) and information about business locations. \n",
    "* `user.json` includes `user_id`, `name`, `friends` and information on votes as well as the number of reviews each individual user has written. \n",
    "* `review.json` contains `user_id`, `business_id`, `stars` and full `text` of the review. Of course, each review also has a `review_id` associated with it. \n",
    "\n",
    "Each table extracted from individual file could be used to find information about businesses, users and reviews. By using `JOIN` operations in **spark SQL**, the three tables are combined in various ways to perform data analytics tasks in the following sections. \n",
    "\n",
    "The other 3 files are: `checkin.json` (checkins on a business, includes `business_id` and `date`), `tip.json` (quick suggestions written by a user on a business, shorter than review) and `photo.json` (photo data including the caption and classification, one of \"food\", \"drink\", \"menu\", \"inside\" or \"outside\"). "
   ]
  },
  {
   "cell_type": "markdown",
   "metadata": {},
   "source": [
    "## Initialization"
   ]
  },
  {
   "cell_type": "markdown",
   "metadata": {},
   "source": [
    "Instead of running PySpark on my local machine. I will set up a remote cluster using the Google Cloud Platform. Similar functionality is also available through other Infrastructure-as-a-Service providers, such as Amazon Web Services and Microsoft Azure.\n",
    "\n",
    "GCP can be accessed via the Google Cloud Console and the [Google Cloud SDK](https://cloud.google.com/sdk). Google Cloud SDK (Software Development Kit) is a command line tool that allows you to manage resources and services hosted on GCP. After Google Cloud SDK is [installed](https://cloud.google.com/sdk/install) and set up for macOS. One can interact with it through terminal. "
   ]
  },
  {
   "cell_type": "markdown",
   "metadata": {},
   "source": [
    "In order to upload and store files on GCP. We first need to create a bucket. A bucket is the GCP-equivalent of a directory or folder on a local computer. A bucket named yf-bucket could be created by typing the following command in terminal: \n",
    "\n",
    "`gsutil mb gs://yf-bucket/`\n",
    "\n",
    "Next, 3 json files could be uploaded by the following command:\n",
    "\n",
    "`gsutil cp \\Users\\Desktop\\ST446project\\xxx.json gs://yf-bucket`\n",
    "\n",
    "Here `xxx` is the name of the file. \n",
    "\n",
    "One can also upload files by navigating to `GCP console -> storage -> bucket -> upload files`"
   ]
  },
  {
   "cell_type": "markdown",
   "metadata": {},
   "source": [
    "In order to run PySpark jobs in the cloud, the next step is to set up a Dataproc cluster. Cloud Dataproc is a service for running Apache Spark and Apache Hadoop clusters and easily integrates with other GCP services (see [Dataproc documentation](https://cloud.google.com/dataproc/docs/)).\n",
    "\n",
    "I have used the following command to create a cluster that allows us to run jupyter notebook on the cloud. Note that one needs to include relevant packages in the initialization in order to use the libraries. The cluster is located in the zone \"europe-west2-a\", with one standard master node and two worker nodes.\n",
    "```\n",
    "gcloud dataproc clusters create yf-cluster --project coco22 --bucket yf-bucket\\\n",
    "  --properties=^#^spark:spark.jars.packages=graphframes:graphframes:0.5.0-spark2.1-s_2.11,com.databricks:spark-xml_2.11:0.4.1 \\\n",
    "  --subnet default --zone europe-west2-a --master-machine-type n1-standard-4 --master-boot-disk-size 500 --num-workers 2 --worker-machine-type n1-standard-4 --worker-boot-disk-size 500 --image-version 1.3-deb9 \\\n",
    "  --initialization-actions 'gs://dataproc-initialization-actions/jupyter/jupyter.sh','gs://dataproc-initialization-actions/python/pip-install.sh','gs://dataproc-initialization-actions/zookeeper/zookeeper.sh','gs://dataproc-initialization-actions/kafka/kafka.sh' \\\n",
    "  --metadata 'PIP_PACKAGES=sklearn nltk pandas graphframes'\n",
    "```\n",
    "\n",
    "The following also works:\n",
    "```\n",
    "REGION=europe-west2-a\n",
    "CLUSTERNAME=yf-cluster\n",
    "PROJECT=coco22\n",
    "BUCKET=yf-bucket\n",
    "```\n",
    "\n",
    "```\n",
    "gcloud beta dataproc clusters create ${CLUSTERNAME} --project ${PROJECT} \\\n",
    "    --bucket ${BUCKET} --region ${REGION} \\\n",
    "    --image-version=preview \\\n",
    "    --optional-components=ANACONDA,JUPYTER \\\n",
    "    --enable-component-gateway \\\n",
    "    --initialization-actions \\\n",
    "    gs://goog-dataproc-initialization-actions-${REGION}/python/pip-install.sh,gs://${BUCKET}/my-actions.sh \\\n",
    "    --metadata 'PIP_PACKAGES=sklearn nltk pandas numpy'\n",
    "```\n",
    "Now that the cluster is up and running, we can remotely access it using a Secure Shell (SSH). In terminal, copy in the following command to create an SSH tunnel using local port 1080\n",
    "```\n",
    "gcloud compute ssh yf-cluster-m \\\n",
    "  --project=coco22 \\\n",
    "  --zone=europe-west2-b -- -D 1080 -N\n",
    "```\n",
    "Keep the first terminal window running and *open a seperate terminal window* in order to run Chrome and connect through the proxy\n",
    "```\n",
    "\"/Applications/Google Chrome.app/Contents/MacOS/Google Chrome\" \\\n",
    "  --proxy-server=\"socks5://localhost:1080\" \\\n",
    "  --user-data-dir=\"/tmp/yf-cluster-m\" http://yf-cluster-m:8123\n",
    "```\n",
    "Note here the pot number needs to be modified to 8123. Once the page is opened, one can upload jupyternote book from local machine into the cluster and access the file from there. In order to use PySpark, we can change the kernal to PySpark in the menu bar at the top of the file."
   ]
  },
  {
   "cell_type": "markdown",
   "metadata": {},
   "source": [
    "### Importing libraries"
   ]
  },
  {
   "cell_type": "code",
   "execution_count": 1,
   "metadata": {},
   "outputs": [],
   "source": [
    "#import statements\n",
    "from pyspark.sql import SparkSession\n",
    "from pyspark.sql.functions import *\n",
    "import pyspark.sql.functions as psf\n",
    "from pyspark.sql.functions import udf"
   ]
  },
  {
   "cell_type": "code",
   "execution_count": 2,
   "metadata": {},
   "outputs": [],
   "source": [
    "from pyspark.sql import functions as f"
   ]
  },
  {
   "cell_type": "code",
   "execution_count": 4,
   "metadata": {},
   "outputs": [],
   "source": [
    "import pandas as pd\n",
    "#import seaborn as sns\n",
    "import numpy as np\n",
    "import matplotlib.pyplot as plt\n",
    "from pyspark.sql.functions import split,explode"
   ]
  },
  {
   "cell_type": "code",
   "execution_count": 5,
   "metadata": {},
   "outputs": [],
   "source": [
    "# linear regression to estimate rating.\n",
    "from pyspark.ml.feature import VectorAssembler\n",
    "from pyspark.ml import Pipeline\n",
    "from pyspark.ml.feature import StringIndexer, OneHotEncoderEstimator\n",
    "from pyspark.sql import Window\n",
    "from pyspark.ml.evaluation import RegressionEvaluator\n",
    "\n",
    "import matplotlib.pyplot as plt\n",
    "# from pyspark.sql.functions import rowNumber"
   ]
  },
  {
   "cell_type": "markdown",
   "metadata": {},
   "source": [
    "## Data Exploration "
   ]
  },
  {
   "cell_type": "markdown",
   "metadata": {},
   "source": [
    "### Reading in JSON files\n",
    "\n",
    "`spark.read.json()` method is provided by Spark API, it allows us to read JSON files into DataFrames. Since our notebook is running on the cloud, we need to specify our file paths in the GCP bucket."
   ]
  },
  {
   "cell_type": "code",
   "execution_count": 88,
   "metadata": {},
   "outputs": [],
   "source": [
    "#specifying the path for business file\n",
    "b_name = 'gs://yf-bucket/yelp_academic_dataset_business.json'\n",
    "#reading in business file\n",
    "business = spark.read.json(b_name)"
   ]
  },
  {
   "cell_type": "code",
   "execution_count": 12,
   "metadata": {},
   "outputs": [],
   "source": [
    "#specifying the path for user file\n",
    "u_name = 'gs://yf-bucket/yelp_academic_dataset_user.json'\n",
    "#reading in user file\n",
    "user = spark.read.json(u_name)"
   ]
  },
  {
   "cell_type": "code",
   "execution_count": 14,
   "metadata": {},
   "outputs": [],
   "source": [
    "#specifying the path for review file\n",
    "r_name = 'gs://yf-bucket/yelp_academic_dataset_review.json'\n",
    "#reading in review file\n",
    "review = spark.read.json(r_name)"
   ]
  },
  {
   "cell_type": "markdown",
   "metadata": {},
   "source": [
    "### Inferring the Schema Using Reflection\n",
    "\n",
    "Spark can infer the schema using *reflection*; i.e. automatically determine the schema of the data based on sampling the data. \n",
    "\n",
    "Let's have a look at the schema of bussiness.json."
   ]
  },
  {
   "cell_type": "code",
   "execution_count": 2,
   "metadata": {},
   "outputs": [
    {
     "name": "stdout",
     "output_type": "stream",
     "text": [
      "root\n",
      " |-- address: string (nullable = true)\n",
      " |-- attributes: struct (nullable = true)\n",
      " |    |-- AcceptsInsurance: string (nullable = true)\n",
      " |    |-- AgesAllowed: string (nullable = true)\n",
      " |    |-- Alcohol: string (nullable = true)\n",
      " |    |-- Ambience: string (nullable = true)\n",
      " |    |-- BYOB: string (nullable = true)\n",
      " |    |-- BYOBCorkage: string (nullable = true)\n",
      " |    |-- BestNights: string (nullable = true)\n",
      " |    |-- BikeParking: string (nullable = true)\n",
      " |    |-- BusinessAcceptsBitcoin: string (nullable = true)\n",
      " |    |-- BusinessAcceptsCreditCards: string (nullable = true)\n",
      " |    |-- BusinessParking: string (nullable = true)\n",
      " |    |-- ByAppointmentOnly: string (nullable = true)\n",
      " |    |-- Caters: string (nullable = true)\n",
      " |    |-- CoatCheck: string (nullable = true)\n",
      " |    |-- Corkage: string (nullable = true)\n",
      " |    |-- DietaryRestrictions: string (nullable = true)\n",
      " |    |-- DogsAllowed: string (nullable = true)\n",
      " |    |-- DriveThru: string (nullable = true)\n",
      " |    |-- GoodForDancing: string (nullable = true)\n",
      " |    |-- GoodForKids: string (nullable = true)\n",
      " |    |-- GoodForMeal: string (nullable = true)\n",
      " |    |-- HairSpecializesIn: string (nullable = true)\n",
      " |    |-- HappyHour: string (nullable = true)\n",
      " |    |-- HasTV: string (nullable = true)\n",
      " |    |-- Music: string (nullable = true)\n",
      " |    |-- NoiseLevel: string (nullable = true)\n",
      " |    |-- Open24Hours: string (nullable = true)\n",
      " |    |-- OutdoorSeating: string (nullable = true)\n",
      " |    |-- RestaurantsAttire: string (nullable = true)\n",
      " |    |-- RestaurantsCounterService: string (nullable = true)\n",
      " |    |-- RestaurantsDelivery: string (nullable = true)\n",
      " |    |-- RestaurantsGoodForGroups: string (nullable = true)\n",
      " |    |-- RestaurantsPriceRange2: string (nullable = true)\n",
      " |    |-- RestaurantsReservations: string (nullable = true)\n",
      " |    |-- RestaurantsTableService: string (nullable = true)\n",
      " |    |-- RestaurantsTakeOut: string (nullable = true)\n",
      " |    |-- Smoking: string (nullable = true)\n",
      " |    |-- WheelchairAccessible: string (nullable = true)\n",
      " |    |-- WiFi: string (nullable = true)\n",
      " |-- business_id: string (nullable = true)\n",
      " |-- categories: string (nullable = true)\n",
      " |-- city: string (nullable = true)\n",
      " |-- hours: struct (nullable = true)\n",
      " |    |-- Friday: string (nullable = true)\n",
      " |    |-- Monday: string (nullable = true)\n",
      " |    |-- Saturday: string (nullable = true)\n",
      " |    |-- Sunday: string (nullable = true)\n",
      " |    |-- Thursday: string (nullable = true)\n",
      " |    |-- Tuesday: string (nullable = true)\n",
      " |    |-- Wednesday: string (nullable = true)\n",
      " |-- is_open: long (nullable = true)\n",
      " |-- latitude: double (nullable = true)\n",
      " |-- longitude: double (nullable = true)\n",
      " |-- name: string (nullable = true)\n",
      " |-- postal_code: string (nullable = true)\n",
      " |-- review_count: long (nullable = true)\n",
      " |-- stars: double (nullable = true)\n",
      " |-- state: string (nullable = true)\n",
      "\n"
     ]
    }
   ],
   "source": [
    "# Visualize the inferred schema\n",
    "business.printSchema()"
   ]
  },
  {
   "cell_type": "markdown",
   "metadata": {},
   "source": [
    "The schema is infered correctly. It contains information about column names, data types and attributes. One can also programmatically apply the schema by using `StructureType()`. But we do not need to do this for yelp dataset."
   ]
  },
  {
   "cell_type": "markdown",
   "metadata": {},
   "source": [
    "### Querying with the DataFrame API"
   ]
  },
  {
   "cell_type": "code",
   "execution_count": 4,
   "metadata": {},
   "outputs": [
    {
     "name": "stdout",
     "output_type": "stream",
     "text": [
      "+--------------------+--------------------+--------------------+--------------------+---------------+--------------------+-------+----------+------------+--------------------+-----------+------------+-----+-----+\n",
      "|             address|          attributes|         business_id|          categories|           city|               hours|is_open|  latitude|   longitude|                name|postal_code|review_count|stars|state|\n",
      "+--------------------+--------------------+--------------------+--------------------+---------------+--------------------+-------+----------+------------+--------------------+-----------+------------+-----+-----+\n",
      "|     10913 Bailey Rd|[,,,,,,, True,, T...|f9NumwFMBDn751xgF...|Active Life, Gun/...|      Cornelius|[11:0-20:0, 10:0-...|      1|35.4627242| -80.8526119|The Range At Lake...|      28031|          36|  3.5|   NC|\n",
      "|8880 E Via Linda,...|[,,,,,,,,,,, True...|Yzvjg0SayhoZgCljU...|Health & Medical,...|     Scottsdale|                null|      1|33.5694041|-111.8902637|   Carlos Santo, NMD|      85258|           4|  5.0|   AZ|\n",
      "|3554 Rue Notre-Da...|                null|XNoUzKckATkOD1hP6...|Pets, Pet Service...|       Montreal|                null|      1| 45.479984|   -73.58007|             Felinus|    H4C 1P4|           5|  5.0|   QC|\n",
      "|      1015 Sharp Cir|[,,,,,,, True,, T...|6OAZjbxqM5ol29BuH...|Hardware Stores, ...|North Las Vegas|[7:0-16:0, 7:0-16...|      0|36.2197281|-115.1277255|Nevada House of Hose|      89030|           3|  2.5|   NV|\n",
      "|  4827 E Downing Cir|[,,,,,,,,, True,,...|51M2Kk903DFYI6gnB...|Home Services, Pl...|           Mesa|[9:0-16:0, 0:0-0:...|      1|33.4280652|-111.7266485|USE MY GUY SERVIC...|      85205|          26|  4.5|   AZ|\n",
      "+--------------------+--------------------+--------------------+--------------------+---------------+--------------------+-------+----------+------------+--------------------+-----------+------------+-----+-----+\n",
      "only showing top 5 rows\n",
      "\n"
     ]
    }
   ],
   "source": [
    "#show top five rows of business DataFrame\n",
    "business.show(5)"
   ]
  },
  {
   "cell_type": "markdown",
   "metadata": {},
   "source": [
    "#### Create temporary table for SQL querying"
   ]
  },
  {
   "cell_type": "markdown",
   "metadata": {},
   "source": [
    "Before querying, let's register the DataFrame as a table using `createOrReplaceTempView()`. This function creates a temporary table that can be queried using Spark SQL."
   ]
  },
  {
   "cell_type": "code",
   "execution_count": 8,
   "metadata": {},
   "outputs": [],
   "source": [
    "#creating a temorary table \n",
    "business.createOrReplaceTempView(\"business\")"
   ]
  },
  {
   "cell_type": "markdown",
   "metadata": {},
   "source": [
    "Counting the number of distinct rows in the table"
   ]
  },
  {
   "cell_type": "code",
   "execution_count": 13,
   "metadata": {},
   "outputs": [
    {
     "data": {
      "text/plain": [
       "209393"
      ]
     },
     "execution_count": 13,
     "metadata": {},
     "output_type": "execute_result"
    }
   ],
   "source": [
    "business.distinct().count()"
   ]
  },
  {
   "cell_type": "markdown",
   "metadata": {},
   "source": [
    "### Querying with Spark SQL\n",
    "\n",
    "The same query could also be written using Spark SQL - a SQL dialect that is compatible with the Hive Query Language (or HiveQL)."
   ]
  },
  {
   "cell_type": "code",
   "execution_count": 15,
   "metadata": {},
   "outputs": [
    {
     "name": "stdout",
     "output_type": "stream",
     "text": [
      "+--------------+\n",
      "|business_count|\n",
      "+--------------+\n",
      "|        209393|\n",
      "+--------------+\n",
      "\n"
     ]
    }
   ],
   "source": [
    "# Number of reviews (count of rows)\n",
    "spark.sql('SELECT COUNT(*) AS business_count FROM business').show()"
   ]
  },
  {
   "cell_type": "markdown",
   "metadata": {},
   "source": [
    "In order to extract useful information from the business table, a few columns are selected to generate a subset of the orginal DataFrame. "
   ]
  },
  {
   "cell_type": "code",
   "execution_count": 9,
   "metadata": {},
   "outputs": [
    {
     "name": "stdout",
     "output_type": "stream",
     "text": [
      "+--------------------+--------------------+--------------------+-----+---------------+------------+-----+\n",
      "|         business_id|                name|          categories|state|           city|review_count|stars|\n",
      "+--------------------+--------------------+--------------------+-----+---------------+------------+-----+\n",
      "|f9NumwFMBDn751xgF...|The Range At Lake...|Active Life, Gun/...|   NC|      Cornelius|          36|  3.5|\n",
      "|Yzvjg0SayhoZgCljU...|   Carlos Santo, NMD|Health & Medical,...|   AZ|     Scottsdale|           4|  5.0|\n",
      "|XNoUzKckATkOD1hP6...|             Felinus|Pets, Pet Service...|   QC|       Montreal|           5|  5.0|\n",
      "|6OAZjbxqM5ol29BuH...|Nevada House of Hose|Hardware Stores, ...|   NV|North Las Vegas|           3|  2.5|\n",
      "|51M2Kk903DFYI6gnB...|USE MY GUY SERVIC...|Home Services, Pl...|   AZ|           Mesa|          26|  4.5|\n",
      "+--------------------+--------------------+--------------------+-----+---------------+------------+-----+\n",
      "only showing top 5 rows\n",
      "\n"
     ]
    }
   ],
   "source": [
    "# Reduce DataFrame to include only relevant variables\n",
    "b_df = spark.sql('SELECT business_id, \\ \n",
    "name, categories, state, city, review_count, stars FROM business')\n",
    "b_df.show(5)"
   ]
  },
  {
   "cell_type": "markdown",
   "metadata": {},
   "source": [
    "#### A1. Business distribution by cities\n",
    "\n",
    "To find cities with the most businesses, we can use `SELECT`, `COUNT(*)`, then `GROUP BY` cities, and `ORDER BY` the number of counts for each city. In order to get the top 10 cities in descending order, `DESC` could be used, then we `LIMIT` the result to 10."
   ]
  },
  {
   "cell_type": "code",
   "execution_count": 18,
   "metadata": {},
   "outputs": [
    {
     "name": "stdout",
     "output_type": "stream",
     "text": [
      "+----------+----------------+\n",
      "|      city|total_businesses|\n",
      "+----------+----------------+\n",
      "| Las Vegas|           31631|\n",
      "|   Toronto|           20366|\n",
      "|   Phoenix|           20171|\n",
      "| Charlotte|           10422|\n",
      "|Scottsdale|            9342|\n",
      "|   Calgary|            8377|\n",
      "|Pittsburgh|            7630|\n",
      "|  Montréal|            6979|\n",
      "|      Mesa|            6577|\n",
      "| Henderson|            5272|\n",
      "+----------+----------------+\n",
      "\n"
     ]
    }
   ],
   "source": [
    "b_df.createOrReplaceTempView(\"b_df\")\n",
    "\n",
    "#top 10 cities with the largest number of businesses\n",
    "#count cities then order by descending order, and show the top 10 \n",
    "spark.sql('SELECT city, COUNT(*) as \\ \n",
    "total_businesses FROM b_df GROUP BY \\ \n",
    "city ORDER BY COUNT(*) DESC LIMIT 10').show()"
   ]
  },
  {
   "cell_type": "markdown",
   "metadata": {},
   "source": [
    "As a result, we can see that Las Vegas, Toronto and Phoenix has the most businesses signed up to yelp compared to other cities."
   ]
  },
  {
   "cell_type": "markdown",
   "metadata": {},
   "source": [
    "#### A2. Statistics on stars rating and review counts\n",
    "\n",
    "Spark's DataFrame API offers `describe()` method to summarize descriptive statistics, which produces the count, mean, standard deviation, minimum and maxium for each variable specified."
   ]
  },
  {
   "cell_type": "code",
   "execution_count": 27,
   "metadata": {},
   "outputs": [
    {
     "name": "stdout",
     "output_type": "stream",
     "text": [
      "+-------+------------------+-----------------+\n",
      "|summary|             stars|     review_count|\n",
      "+-------+------------------+-----------------+\n",
      "|  count|            209393|           209393|\n",
      "|   mean|3.5380552358483808|36.93750507419064|\n",
      "| stddev|1.0235430346225847|123.3435968392906|\n",
      "|    min|               1.0|                3|\n",
      "|    max|               5.0|            10129|\n",
      "+-------+------------------+-----------------+\n",
      "\n"
     ]
    }
   ],
   "source": [
    "b_df.describe('stars', 'review_count').show()"
   ]
  },
  {
   "cell_type": "markdown",
   "metadata": {},
   "source": [
    "The table tells us that the mean stars business receive on Yelp is 3.5 and there's a wide range of reviews received by different businesses. The business least reviews has only 3 review counts. "
   ]
  },
  {
   "cell_type": "markdown",
   "metadata": {},
   "source": [
    "#### A3. Star rating distribution\n",
    "\n",
    "By using the same techniques as before, one can obtain the counts of different ratings. "
   ]
  },
  {
   "cell_type": "code",
   "execution_count": 25,
   "metadata": {},
   "outputs": [
    {
     "data": {
      "text/html": [
       "<div>\n",
       "<style scoped>\n",
       "    .dataframe tbody tr th:only-of-type {\n",
       "        vertical-align: middle;\n",
       "    }\n",
       "\n",
       "    .dataframe tbody tr th {\n",
       "        vertical-align: top;\n",
       "    }\n",
       "\n",
       "    .dataframe thead th {\n",
       "        text-align: right;\n",
       "    }\n",
       "</style>\n",
       "<table border=\"1\" class=\"dataframe\">\n",
       "  <thead>\n",
       "    <tr style=\"text-align: right;\">\n",
       "      <th></th>\n",
       "      <th>stars</th>\n",
       "      <th>count</th>\n",
       "    </tr>\n",
       "  </thead>\n",
       "  <tbody>\n",
       "    <tr>\n",
       "      <th>0</th>\n",
       "      <td>5.0</td>\n",
       "      <td>27080</td>\n",
       "    </tr>\n",
       "    <tr>\n",
       "      <th>1</th>\n",
       "      <td>4.5</td>\n",
       "      <td>29940</td>\n",
       "    </tr>\n",
       "    <tr>\n",
       "      <th>2</th>\n",
       "      <td>4.0</td>\n",
       "      <td>39199</td>\n",
       "    </tr>\n",
       "    <tr>\n",
       "      <th>3</th>\n",
       "      <td>3.5</td>\n",
       "      <td>38079</td>\n",
       "    </tr>\n",
       "    <tr>\n",
       "      <th>4</th>\n",
       "      <td>3.0</td>\n",
       "      <td>28634</td>\n",
       "    </tr>\n",
       "    <tr>\n",
       "      <th>5</th>\n",
       "      <td>2.5</td>\n",
       "      <td>21435</td>\n",
       "    </tr>\n",
       "    <tr>\n",
       "      <th>6</th>\n",
       "      <td>2.0</td>\n",
       "      <td>13124</td>\n",
       "    </tr>\n",
       "    <tr>\n",
       "      <th>7</th>\n",
       "      <td>1.5</td>\n",
       "      <td>6004</td>\n",
       "    </tr>\n",
       "    <tr>\n",
       "      <th>8</th>\n",
       "      <td>1.0</td>\n",
       "      <td>5898</td>\n",
       "    </tr>\n",
       "  </tbody>\n",
       "</table>\n",
       "</div>"
      ],
      "text/plain": [
       "   stars  count\n",
       "0    5.0  27080\n",
       "1    4.5  29940\n",
       "2    4.0  39199\n",
       "3    3.5  38079\n",
       "4    3.0  28634\n",
       "5    2.5  21435\n",
       "6    2.0  13124\n",
       "7    1.5   6004\n",
       "8    1.0   5898"
      ]
     },
     "execution_count": 25,
     "metadata": {},
     "output_type": "execute_result"
    }
   ],
   "source": [
    "#count number of business with different star ratings\n",
    "b_stars = spark.sql('SELECT stars, COUNT(*) as \\ \n",
    "count FROM b_df GROUP BY stars ORDER BY stars DESC')\n",
    "\n",
    "# Convert Spark DataFrame to Pandas DataFrame\n",
    "b_stars_pd = b_stars.toPandas()\n",
    "b_stars_pd"
   ]
  },
  {
   "cell_type": "markdown",
   "metadata": {},
   "source": [
    "Result histogram"
   ]
  },
  {
   "cell_type": "code",
   "execution_count": 26,
   "metadata": {},
   "outputs": [
    {
     "data": {
      "text/plain": [
       "<matplotlib.axes._subplots.AxesSubplot at 0x7f483e3bd550>"
      ]
     },
     "execution_count": 26,
     "metadata": {},
     "output_type": "execute_result"
    },
    {
     "data": {
      "image/png": "[encoded data removed]",
      "text/plain": [
       "<Figure size 432x288 with 1 Axes>"
      ]
     },
     "metadata": {
      "needs_background": "light"
     },
     "output_type": "display_data"
    }
   ],
   "source": [
    "%matplotlib inline\n",
    "\n",
    "# Set the DF's index to year and sort DF by year\n",
    "b_stars_pd = b_stars_pd.set_index('stars')\n",
    "b_stars_pd.plot.bar(title = 'Distribution of star ratings')"
   ]
  },
  {
   "cell_type": "markdown",
   "metadata": {},
   "source": [
    "The ratings are slightly skewed meaning that users tend to give positive reviews."
   ]
  },
  {
   "cell_type": "markdown",
   "metadata": {},
   "source": [
    "#### A4. Top categories with the largest number of businesses\n",
    "\n",
    "now we want to investigate into the number of business within each categories, to do this, first we need to select the categories and business id column from the table."
   ]
  },
  {
   "cell_type": "code",
   "execution_count": 31,
   "metadata": {},
   "outputs": [
    {
     "name": "stdout",
     "output_type": "stream",
     "text": [
      "+--------------------+--------------------+\n",
      "|         business_id|          categories|\n",
      "+--------------------+--------------------+\n",
      "|f9NumwFMBDn751xgF...|Active Life, Gun/...|\n",
      "|Yzvjg0SayhoZgCljU...|Health & Medical,...|\n",
      "|XNoUzKckATkOD1hP6...|Pets, Pet Service...|\n",
      "|6OAZjbxqM5ol29BuH...|Hardware Stores, ...|\n",
      "|51M2Kk903DFYI6gnB...|Home Services, Pl...|\n",
      "+--------------------+--------------------+\n",
      "only showing top 5 rows\n",
      "\n"
     ]
    }
   ],
   "source": [
    "# Reduce DataFrame to include only relevant variables\n",
    "bID_cat = spark.sql('SELECT business_id, categories FROM b_df')\n",
    "#bID_cat.createOrReplaceTempView(\"bID_cat\")\n",
    "bID_cat.show(5)"
   ]
  },
  {
   "cell_type": "markdown",
   "metadata": {},
   "source": [
    "Here some businesses might belong to more than one categories, what we want to do here is to transform the categories column such that each row of cateogries only contain one category.\n",
    "\n",
    "We do this by first creating an **RDD**, which is a *schema-less* data structure. The function `.rdd` transform a table to a RDD. `.take(num)` returns the first `num` rows as a **list** of Row. [3]"
   ]
  },
  {
   "cell_type": "code",
   "execution_count": 109,
   "metadata": {},
   "outputs": [
    {
     "data": {
      "text/plain": [
       "[Row(business_id='f9NumwFMBDn751xgFiRbNA', categories='Active Life, Gun/Rifle Ranges, Guns & Ammo, Shopping'),\n",
       " Row(business_id='Yzvjg0SayhoZgCljUJRF9Q', categories='Health & Medical, Fitness & Instruction, Yoga, Active Life, Pilates')]"
      ]
     },
     "execution_count": 109,
     "metadata": {},
     "output_type": "execute_result"
    }
   ],
   "source": [
    "#creating a rdd\n",
    "bID_cat_rdd = bID_cat.rdd\n",
    "\n",
    "#show the first two rows. \n",
    "bID_cat_rdd.take(2)"
   ]
  },
  {
   "cell_type": "markdown",
   "metadata": {},
   "source": [
    "We have now transformed the dataframe into an RDD. Next let's strip the second element of each row.\n",
    "To do this, I have used a helper function that takes in lines of words and split by comma. As different categoreis are seperated by comma followed by a space in the original dataframe."
   ]
  },
  {
   "cell_type": "code",
   "execution_count": 114,
   "metadata": {},
   "outputs": [
    {
     "data": {
      "text/plain": [
       "[('f9NumwFMBDn751xgFiRbNA',\n",
       "  ['Active Life', 'Gun/Rifle Ranges', 'Guns & Ammo', 'Shopping']),\n",
       " ('Yzvjg0SayhoZgCljUJRF9Q',\n",
       "  ['Health & Medical',\n",
       "   'Fitness & Instruction',\n",
       "   'Yoga',\n",
       "   'Active Life',\n",
       "   'Pilates'])]"
      ]
     },
     "execution_count": 114,
     "metadata": {},
     "output_type": "execute_result"
    }
   ],
   "source": [
    "def extractInformation(row):\n",
    "    import re\n",
    "    import numpy as np\n",
    "    \n",
    "    words = list(row.split(\", \")) # split the line into categories by comma\n",
    "    return words\n",
    "b2 = bID_cat_rdd.map(lambda row:(row[0], extractInformation(row[1])))\n",
    "b2.take(2)"
   ]
  },
  {
   "cell_type": "markdown",
   "metadata": {},
   "source": [
    "Then **function** `.flatMapValues()` is used so that each row is split into multiple rows with different category and business pair."
   ]
  },
  {
   "cell_type": "code",
   "execution_count": 115,
   "metadata": {},
   "outputs": [
    {
     "data": {
      "text/plain": [
       "[('f9NumwFMBDn751xgFiRbNA', 'Active Life'),\n",
       " ('f9NumwFMBDn751xgFiRbNA', 'Gun/Rifle Ranges'),\n",
       " ('f9NumwFMBDn751xgFiRbNA', 'Guns & Ammo'),\n",
       " ('f9NumwFMBDn751xgFiRbNA', 'Shopping'),\n",
       " ('Yzvjg0SayhoZgCljUJRF9Q', 'Health & Medical')]"
      ]
     },
     "execution_count": 115,
     "metadata": {},
     "output_type": "execute_result"
    }
   ],
   "source": [
    "def f(x): \n",
    "    return x\n",
    "b3 = b2.flatMapValues(f)\n",
    "b3.take(5)"
   ]
  },
  {
   "cell_type": "markdown",
   "metadata": {},
   "source": [
    "#### Improving computational speed by repartitioning\n",
    "\n",
    "In PySpark, the `.getNumPartitions()` allows us to check the number of partitions. One can repartition RDD into different number of partitions in order to find the number of partitions that gives the optimal speed."
   ]
  },
  {
   "cell_type": "code",
   "execution_count": 185,
   "metadata": {},
   "outputs": [
    {
     "data": {
      "text/plain": [
       "2"
      ]
     },
     "execution_count": 185,
     "metadata": {},
     "output_type": "execute_result"
    }
   ],
   "source": [
    "#checking the number of partitions\n",
    "b2.getNumPartitions()"
   ]
  },
  {
   "cell_type": "code",
   "execution_count": 189,
   "metadata": {},
   "outputs": [
    {
     "name": "stdout",
     "output_type": "stream",
     "text": [
      "Number of partitions: 25\n",
      "time:  0.0007045269012451172\n",
      "Number of partitions: 24\n",
      "time:  0.0006229877471923828\n",
      "Number of partitions: 23\n",
      "time:  0.0006096363067626953\n",
      "Number of partitions: 22\n",
      "time:  0.0006585121154785156\n",
      "Number of partitions: 21\n",
      "time:  0.0006775856018066406\n",
      "Number of partitions: 20\n",
      "time:  0.0005283355712890625\n",
      "Number of partitions: 19\n",
      "time:  0.0006749629974365234\n",
      "Number of partitions: 18\n",
      "time:  0.00058746337890625\n",
      "Number of partitions: 17\n",
      "time:  0.0006251335144042969\n",
      "Number of partitions: 16\n",
      "time:  0.0005633831024169922\n",
      "Number of partitions: 15\n",
      "time:  0.0006899833679199219\n",
      "Number of partitions: 14\n",
      "time:  0.0006093978881835938\n",
      "Number of partitions: 13\n",
      "time:  0.0007300376892089844\n",
      "Number of partitions: 12\n",
      "time:  0.0005717277526855469\n",
      "Number of partitions: 11\n",
      "time:  0.0006422996520996094\n",
      "Number of partitions: 10\n",
      "time:  0.0007464885711669922\n",
      "Number of partitions: 9\n",
      "time:  0.0006890296936035156\n",
      "Number of partitions: 8\n",
      "time:  0.0004870891571044922\n",
      "Number of partitions: 7\n",
      "time:  0.0005643367767333984\n",
      "Number of partitions: 6\n",
      "time:  0.000713348388671875\n",
      "Number of partitions: 5\n",
      "time:  0.0007090568542480469\n",
      "Number of partitions: 4\n",
      "time:  0.0007421970367431641\n",
      "Number of partitions: 3\n",
      "time:  0.0006566047668457031\n",
      "Number of partitions: 2\n",
      "time:  0.0006849765777587891\n",
      "Number of partitions: 1\n",
      "time:  0.0006020069122314453\n"
     ]
    }
   ],
   "source": [
    "import time #to calculate computing speed\n",
    "from numpy import sqrt, array, sin\n",
    "times = []\n",
    "\n",
    "for npart in range(25, 0, -1):\n",
    "    b2rdd = b2.repartition(npart) #repartioning\n",
    "    print(\"Number of partitions: {}\".format(b2rdd.getNumPartitions()))\n",
    "    t0 = time.time()\n",
    "    a0 = b2rdd.flatMapValues(f)\n",
    "    dt = time.time() - t0 #computing time\n",
    "    print(\"time: \",dt)\n",
    "    times = times + [dt]"
   ]
  },
  {
   "cell_type": "code",
   "execution_count": 191,
   "metadata": {},
   "outputs": [
    {
     "data": {
      "image/png": "[encoded data removed]",
      "text/plain": [
       "<Figure size 432x288 with 1 Axes>"
      ]
     },
     "metadata": {
      "needs_background": "light"
     },
     "output_type": "display_data"
    }
   ],
   "source": [
    "#plotting the results\n",
    "\n",
    "times = array(times)\n",
    "from matplotlib import pyplot as plt\n",
    "plt.plot(range(25,0,-1),times,'ko')\n",
    "plt.xlabel(\"number of partions\")\n",
    "plt.ylabel(\"time\")\n",
    "plt.ylim([0,0.001])\n",
    "plt.show();"
   ]
  },
  {
   "cell_type": "markdown",
   "metadata": {},
   "source": [
    "As a result, 7 and 20 seems to be the desired number of partitions to perform this simple task. Note that too little or too many partitions does not improve the efficiency."
   ]
  },
  {
   "cell_type": "markdown",
   "metadata": {},
   "source": [
    "#### number of businesses in each category"
   ]
  },
  {
   "cell_type": "code",
   "execution_count": 168,
   "metadata": {},
   "outputs": [
    {
     "name": "stdout",
     "output_type": "stream",
     "text": [
      "+--------------------+----------------+\n",
      "|         business_id|        category|\n",
      "+--------------------+----------------+\n",
      "|f9NumwFMBDn751xgF...|     Active Life|\n",
      "|f9NumwFMBDn751xgF...|Gun/Rifle Ranges|\n",
      "|f9NumwFMBDn751xgF...|     Guns & Ammo|\n",
      "|f9NumwFMBDn751xgF...|        Shopping|\n",
      "|Yzvjg0SayhoZgCljU...|Health & Medical|\n",
      "+--------------------+----------------+\n",
      "only showing top 5 rows\n",
      "\n"
     ]
    }
   ],
   "source": [
    "business_cat_df = sqlContext.createDataFrame(\n",
    "    b3, ['business_id', 'category'])\n",
    "business_cat_df.show(5)"
   ]
  },
  {
   "cell_type": "markdown",
   "metadata": {},
   "source": [
    "`explode` and `split` are SQL functions, both operate on SQL `Column`. `split` takes a Java regular expression as a second argument. To split each row in **category**, we can simply do the following:"
   ]
  },
  {
   "cell_type": "code",
   "execution_count": 10,
   "metadata": {},
   "outputs": [
    {
     "name": "stdout",
     "output_type": "stream",
     "text": [
      "+----------------+-----+\n",
      "|category        |count|\n",
      "+----------------+-----+\n",
      "|Restaurants     |63944|\n",
      "|Shopping        |34644|\n",
      "|Food            |32991|\n",
      "|Home Services   |22487|\n",
      "|Beauty & Spas   |20520|\n",
      "|Health & Medical|19227|\n",
      "|Local Services  |15783|\n",
      "|Automotive      |14720|\n",
      "|Nightlife       |14211|\n",
      "|Bars            |12400|\n",
      "+----------------+-----+\n",
      "only showing top 10 rows\n",
      "\n"
     ]
    }
   ],
   "source": [
    "#select category column\n",
    "category = business.select('categories')\n",
    "\n",
    "#split each row of category then make into multiple rows\n",
    "category1 = category.select(\n",
    "    explode(split('categories', ', ')).alias('category'))\n",
    "#count different numbers of businesses in categories\n",
    "group_category = category1.groupBy('category').count()\n",
    "\n",
    "#show the top categories with the most business\n",
    "top_category = group_category.sort('count', ascending= False)\n",
    "top_category.show(10, truncate=False)"
   ]
  },
  {
   "cell_type": "markdown",
   "metadata": {},
   "source": [
    "Bar plot to visulize the result"
   ]
  },
  {
   "cell_type": "code",
   "execution_count": 14,
   "metadata": {},
   "outputs": [
    {
     "data": {
      "text/plain": [
       "Text(0.5, 1.0, 'Distribution of Top cateogries')"
      ]
     },
     "execution_count": 14,
     "metadata": {},
     "output_type": "execute_result"
    },
    {
     "data": {
      "image/png": "[encoded data removed]",
      "text/plain": [
       "<Figure size 432x288 with 1 Axes>"
      ]
     },
     "metadata": {
      "needs_background": "light"
     },
     "output_type": "display_data"
    }
   ],
   "source": [
    "#plotting the result\n",
    "\n",
    "top_category_df = top_category.toPandas()[:10]\n",
    "top_category_df.plot(kind='bar',x='category',y='count')\n",
    "plt.title(\"Distribution of Top cateogries\")"
   ]
  },
  {
   "cell_type": "markdown",
   "metadata": {},
   "source": [
    "As we can see, most businesses registered with Yelp fall into `Restaurants` category. "
   ]
  },
  {
   "cell_type": "markdown",
   "metadata": {},
   "source": [
    "#### B1. Users that give the most number of reviews\n",
    "\n",
    "The user DataFrame will be used to answer this question."
   ]
  },
  {
   "cell_type": "code",
   "execution_count": 141,
   "metadata": {},
   "outputs": [
    {
     "name": "stdout",
     "output_type": "stream",
     "text": [
      "root\n",
      " |-- average_stars: double (nullable = true)\n",
      " |-- compliment_cool: long (nullable = true)\n",
      " |-- compliment_cute: long (nullable = true)\n",
      " |-- compliment_funny: long (nullable = true)\n",
      " |-- compliment_hot: long (nullable = true)\n",
      " |-- compliment_list: long (nullable = true)\n",
      " |-- compliment_more: long (nullable = true)\n",
      " |-- compliment_note: long (nullable = true)\n",
      " |-- compliment_photos: long (nullable = true)\n",
      " |-- compliment_plain: long (nullable = true)\n",
      " |-- compliment_profile: long (nullable = true)\n",
      " |-- compliment_writer: long (nullable = true)\n",
      " |-- cool: long (nullable = true)\n",
      " |-- elite: string (nullable = true)\n",
      " |-- fans: long (nullable = true)\n",
      " |-- friends: string (nullable = true)\n",
      " |-- funny: long (nullable = true)\n",
      " |-- name: string (nullable = true)\n",
      " |-- review_count: long (nullable = true)\n",
      " |-- useful: long (nullable = true)\n",
      " |-- user_id: string (nullable = true)\n",
      " |-- yelping_since: string (nullable = true)\n",
      "\n"
     ]
    }
   ],
   "source": [
    "#checking user schema \n",
    "user.printSchema()"
   ]
  },
  {
   "cell_type": "code",
   "execution_count": 16,
   "metadata": {},
   "outputs": [
    {
     "data": {
      "text/plain": [
       "1968703"
      ]
     },
     "execution_count": 16,
     "metadata": {},
     "output_type": "execute_result"
    }
   ],
   "source": [
    "#creating a temporary table \n",
    "user.createOrReplaceTempView(\"user\")\n",
    "\n",
    "#counting the number of users\n",
    "user.count()"
   ]
  },
  {
   "cell_type": "code",
   "execution_count": 230,
   "metadata": {},
   "outputs": [
    {
     "name": "stdout",
     "output_type": "stream",
     "text": [
      "+--------------------+--------+------------+\n",
      "|             user_id|    name|review_count|\n",
      "+--------------------+--------+------------+\n",
      "|8k3aO-mPeyhbR5HUu...|  Victor|       14455|\n",
      "|RtGqdDBvvBCjcu5dU...|   Shila|       12772|\n",
      "|hWDybu_KvYLSdEFzG...|   Bruce|       12487|\n",
      "|Hi10sGSZNxQH3NLyW...|     Fox|       11112|\n",
      "|P5bUL3Engv-2z6kKo...|     Kim|        9875|\n",
      "|8RcEwGrFIgkt9WQ35...|  George|        7745|\n",
      "|nmdkHL2JKFx55T3nq...|  Nijole|        7626|\n",
      "|Xwnf20FKuikiHcSpc...| Kenneth|        6762|\n",
      "|CxDOIDnH8gp9KXzpB...|Jennifer|        6633|\n",
      "|HFECrzYDpgbS5EmTB...|    Eric|        5500|\n",
      "+--------------------+--------+------------+\n",
      "\n"
     ]
    }
   ],
   "source": [
    "top_user = spark.sql('SELECT user_id, name, \\ \n",
    "review_count FROM user ORDER BY review_count DESC LIMIT 5')\n",
    "top_user.show()"
   ]
  },
  {
   "cell_type": "markdown",
   "metadata": {},
   "source": [
    "User Victor has written the most reviews."
   ]
  },
  {
   "cell_type": "markdown",
   "metadata": {},
   "source": [
    "## Sentiment analysis on reviews\n",
    "\n",
    "NLP(Natrual Language processing) is widely used in businesses to drive valuable insights into customer preferences. This section focuses on the `text` column in the review dataset, which contains sentences of reviews left by raters. This part aims at finding the most frequently used word in the review and predict the likes based on the text. We first generate term frequencies using **TF-IDF** method, then fit a **LogisticRegression** model to predict ratings. \n",
    "\n",
    "First, print the schema of review dataset."
   ]
  },
  {
   "cell_type": "code",
   "execution_count": 142,
   "metadata": {},
   "outputs": [
    {
     "name": "stdout",
     "output_type": "stream",
     "text": [
      "root\n",
      " |-- business_id: string (nullable = true)\n",
      " |-- cool: long (nullable = true)\n",
      " |-- date: string (nullable = true)\n",
      " |-- funny: long (nullable = true)\n",
      " |-- review_id: string (nullable = true)\n",
      " |-- stars: double (nullable = true)\n",
      " |-- text: string (nullable = true)\n",
      " |-- useful: long (nullable = true)\n",
      " |-- user_id: string (nullable = true)\n",
      "\n"
     ]
    }
   ],
   "source": [
    "review.printSchema()"
   ]
  },
  {
   "cell_type": "code",
   "execution_count": 231,
   "metadata": {},
   "outputs": [
    {
     "data": {
      "text/plain": [
       "8021122"
      ]
     },
     "execution_count": 231,
     "metadata": {},
     "output_type": "execute_result"
    }
   ],
   "source": [
    "review.createOrReplaceTempView(\"review\")\n",
    "review.count()"
   ]
  },
  {
   "cell_type": "markdown",
   "metadata": {},
   "source": [
    "### Tokenization and preprocessing"
   ]
  },
  {
   "cell_type": "markdown",
   "metadata": {},
   "source": [
    "Firstly, define ratings higher than 4 stars to be postive and otherwise negative. "
   ]
  },
  {
   "cell_type": "code",
   "execution_count": 43,
   "metadata": {},
   "outputs": [],
   "source": [
    "def convert_rating(rating):\n",
    "    '''if review higher than 4 stars,\n",
    "    class as positive, otherwise negative reviews'''\n",
    "    if rating >=4:\n",
    "        return 1\n",
    "    else:\n",
    "        return 0"
   ]
  },
  {
   "cell_type": "markdown",
   "metadata": {},
   "source": [
    "`.lower()` and `.replace()` allows us to remove all punctuations in the text and convert all letters to lowercases. "
   ]
  },
  {
   "cell_type": "code",
   "execution_count": 44,
   "metadata": {},
   "outputs": [],
   "source": [
    "#remove punctuations\n",
    "def lower_clean_str(x):\n",
    "    punc='!\"#$%&\\'()*+,-./:;<=>?@[\\\\]^_`{|}~'\n",
    "    lowercased_str = x.lower() #convert to lower case\n",
    "    for ch in punc:\n",
    "        lowercased_str = lowercased_str.replace(ch, '')\n",
    "    return lowercased_str"
   ]
  },
  {
   "cell_type": "markdown",
   "metadata": {},
   "source": [
    "UDFs allow us to apply the function defined above to text column. Inline definitions of UDFs are supported in Spark SQL's DataFrame API. "
   ]
  },
  {
   "cell_type": "code",
   "execution_count": 45,
   "metadata": {},
   "outputs": [],
   "source": [
    "#remove punctuation and convert to lower cases\n",
    "punct_remover = udf(lambda x: lower_clean_str(x))\n",
    "df_word = review.select('*', punct_remover('text')).drop('text')\n",
    "\n",
    "#RENAMING THE CLOUMN\n",
    "df_word = df_word.withColumnRenamed('<lambda>(text)', 'text')"
   ]
  },
  {
   "cell_type": "markdown",
   "metadata": {},
   "source": [
    "Converting ratings to a number that represents positive/negative."
   ]
  },
  {
   "cell_type": "code",
   "execution_count": 46,
   "metadata": {},
   "outputs": [],
   "source": [
    "rating_convert = udf(lambda x: convert_rating(x))"
   ]
  },
  {
   "cell_type": "code",
   "execution_count": 47,
   "metadata": {},
   "outputs": [],
   "source": [
    "from pyspark.ml.feature import HashingTF, IDF, Tokenizer,StringIndexer,CountVectorizer\n",
    "import pyspark.mllib.classification\n",
    "from pyspark.sql.functions import udf\n",
    "from pyspark.ml.feature import StopWordsRemover\n",
    "from pyspark.ml import Pipeline\n",
    "import string\n",
    "import re\n",
    "import nltk"
   ]
  },
  {
   "cell_type": "code",
   "execution_count": 48,
   "metadata": {},
   "outputs": [],
   "source": [
    "df_NLP =df_word.select('*',rating_convert('stars'))\n",
    "df_NLP = df_NLP.withColumnRenamed('<lambda>(stars)', 'isPositive')"
   ]
  },
  {
   "cell_type": "markdown",
   "metadata": {},
   "source": [
    "`Tokenizer` splits words sentences into words. `StopWordsRemover` filters out words that do not carry much meaning. "
   ]
  },
  {
   "cell_type": "code",
   "execution_count": 49,
   "metadata": {},
   "outputs": [],
   "source": [
    "#tokenize words\n",
    "tokenizer = Tokenizer(inputCol=\"text\", outputCol=\"words\")\n",
    "#remove stop words\n",
    "remover = StopWordsRemover(inputCol=\"words\", outputCol=\"filtered\")\n",
    "\n",
    "# Build the pipeline \n",
    "pipeline = Pipeline(stages=[tokenizer,remover])\n",
    "# Fit the pipeline \n",
    "df_NLP = pipeline.fit(df_NLP).transform(df_NLP)"
   ]
  },
  {
   "cell_type": "markdown",
   "metadata": {},
   "source": [
    "`HashingTF` takes sets of terms and converts those sets into fixed-length feature vectors. `HashingTF` utilizes the hashing trick. A raw feature is mapped into an index (term) by applying a hash function."
   ]
  },
  {
   "cell_type": "code",
   "execution_count": 50,
   "metadata": {},
   "outputs": [],
   "source": [
    "#Maps a sequence of terms to their term frequencies \n",
    "hashingTF = HashingTF(inputCol=\"filtered\", outputCol=\"rawFeatures\", numFeatures=1000)\n",
    "idf = IDF(inputCol=\"rawFeatures\", outputCol=\"features\")\n",
    "\n",
    "# Build the pipeline \n",
    "pipeline = Pipeline(stages=[hashingTF,idf])\n",
    "# Fit the pipeline \n",
    "encodedData_hasingTF = pipeline.fit(df_NLP).transform(df_NLP)"
   ]
  },
  {
   "cell_type": "markdown",
   "metadata": {},
   "source": [
    "Only a few columns are needed."
   ]
  },
  {
   "cell_type": "code",
   "execution_count": 51,
   "metadata": {},
   "outputs": [],
   "source": [
    "#drop the redundant source column\n",
    "encodedData_tf = encodedData_hasingTF.select(\n",
    "    'review_id','words','features','stars')"
   ]
  },
  {
   "cell_type": "code",
   "execution_count": 52,
   "metadata": {},
   "outputs": [
    {
     "name": "stdout",
     "output_type": "stream",
     "text": [
      "+----------+--------------------+\n",
      "|isPositive|            features|\n",
      "+----------+--------------------+\n",
      "|         0|(1000,[19,37,63,7...|\n",
      "|         0|(1000,[3,7,77,81,...|\n",
      "|         1|(1000,[57,77,122,...|\n",
      "+----------+--------------------+\n",
      "only showing top 3 rows\n",
      "\n"
     ]
    }
   ],
   "source": [
    "DF_sa =encodedData_tf.select(rating_convert('stars'),'features')\n",
    "DF_sa = DF_sa.withColumnRenamed('<lambda>(stars)', 'isPositive')\n",
    "DF_sa.show(3)"
   ]
  },
  {
   "cell_type": "code",
   "execution_count": 53,
   "metadata": {},
   "outputs": [
    {
     "name": "stdout",
     "output_type": "stream",
     "text": [
      "+----------+-------+\n",
      "|isPositive|  count|\n",
      "+----------+-------+\n",
      "|         1|5259864|\n",
      "|         0|2761258|\n",
      "+----------+-------+\n",
      "\n"
     ]
    }
   ],
   "source": [
    "#convert classification from string to integer to enable model to run\n",
    "from pyspark.sql import types \n",
    "DF_sa = DF_sa.withColumn(\"isPositive\",\n",
    "                         DF_sa[\"isPositive\"].cast('int'))\n",
    "\n",
    "DF_sa.groupby('isPositive').count().show()"
   ]
  },
  {
   "cell_type": "markdown",
   "metadata": {},
   "source": [
    "### Fitting the model"
   ]
  },
  {
   "cell_type": "markdown",
   "metadata": {},
   "source": [
    "Randomly splitting the dataset into training and testing. Here we use 80% of the data to train the model then test on the remaining 20%. "
   ]
  },
  {
   "cell_type": "code",
   "execution_count": 54,
   "metadata": {},
   "outputs": [],
   "source": [
    "splits = DF_sa.randomSplit([0.8, 0.2],seed=100)\n",
    "train_df_tf = splits[0]\n",
    "test_df_tf = splits[1]"
   ]
  },
  {
   "cell_type": "markdown",
   "metadata": {},
   "source": [
    "Fitting the LogisticRegression Model."
   ]
  },
  {
   "cell_type": "code",
   "execution_count": 55,
   "metadata": {},
   "outputs": [],
   "source": [
    "from pyspark.ml.classification import LogisticRegression\n",
    "\n",
    "# Set parameters for Logistic Regression maxIter=10, regParam=0.01\n",
    "lg_tf = LogisticRegression(maxIter=10,regParam=0.01, featuresCol = 'features', labelCol='isPositive')\n",
    "\n",
    "# Fit the model to the data.\n",
    "lgModel_tf = lg_tf.fit(train_df_tf)\n",
    "\n",
    "# Given a dataset, predict each point's label, and show the results.\n",
    "lg_pred_tf = lgModel_tf.transform(test_df_tf)"
   ]
  },
  {
   "cell_type": "code",
   "execution_count": 56,
   "metadata": {},
   "outputs": [
    {
     "name": "stdout",
     "output_type": "stream",
     "text": [
      "+----------+--------------------+--------------------+--------------------+----------+\n",
      "|isPositive|            features|       rawPrediction|         probability|prediction|\n",
      "+----------+--------------------+--------------------+--------------------+----------+\n",
      "|         0|(1000,[0,1,2,3,6,...|[-6.8047786361874...|[0.00110723818277...|       1.0|\n",
      "|         0|(1000,[0,1,2,3,7,...|[3.54767280447623...|[0.97201418992814...|       0.0|\n",
      "|         0|(1000,[0,1,2,3,8,...|[-2.6102245192127...|[0.06848327951063...|       1.0|\n",
      "|         0|(1000,[0,1,2,3,9,...|[3.05254719424794...|[0.95489236885811...|       0.0|\n",
      "|         0|(1000,[0,1,2,5,7,...|[3.51179818071930...|[0.97102160541516...|       0.0|\n",
      "+----------+--------------------+--------------------+--------------------+----------+\n",
      "only showing top 5 rows\n",
      "\n"
     ]
    }
   ],
   "source": [
    "lg_pred_tf.show(5)"
   ]
  },
  {
   "cell_type": "markdown",
   "metadata": {},
   "source": [
    "Plotting the ROC curve"
   ]
  },
  {
   "cell_type": "code",
   "execution_count": 57,
   "metadata": {},
   "outputs": [
    {
     "name": "stdout",
     "output_type": "stream",
     "text": [
      "areaUnderROC: 0.903999831914541\n"
     ]
    },
    {
     "data": {
      "image/png": "[encoded data removed]",
      "text/plain": [
       "<Figure size 360x360 with 1 Axes>"
      ]
     },
     "metadata": {
      "needs_background": "light"
     },
     "output_type": "display_data"
    }
   ],
   "source": [
    "trainingSummary = lgModel_tf.summary\n",
    "print(\"areaUnderROC: \" + str(trainingSummary.areaUnderROC))\n",
    "#import matplotlib.pyplot as plt\n",
    "plt.figure(figsize=(5,5))\n",
    "plt.plot([0, 1], [0, 1], 'r--')\n",
    "plt.plot(lgModel_tf.summary.roc.select('FPR').collect(),\n",
    "         lgModel_tf.summary.roc.select('TPR').collect())\n",
    "plt.xlabel('FPR')\n",
    "plt.ylabel('TPR')\n",
    "plt.show()"
   ]
  },
  {
   "cell_type": "markdown",
   "metadata": {},
   "source": [
    "Instead of using `HashingTF`, one can also use `CountVectorizer` to generate a frequency vector. The size of the vector generated through `CountVectorizer` depends on the training corpus and the document whereas the one generated through `HashingTF` has fixed size. `HashingTF` suffers from potential hash collision i.e. 2 or more terms may be mapped to same index thereby becoming same after hashing. One can increase the target feature dimention in order to avoid hash collision. Due to global term to index mapping `CountVectorizer` is more computationally expensive as compared to HashingTF which utilizes the hashing trick."
   ]
  },
  {
   "cell_type": "markdown",
   "metadata": {},
   "source": [
    "## Restaurants recommendations using ALS\n",
    "\n",
    "In this section, we demonstrate the use of ALS (alternating least squares) to find restaurant recommendations in Las Vegas for users.\n",
    "\n",
    "The standard approach to matrix factorization-based collaborative filtering treats the entries in the user-item matrix as explicit preferences given by the user to the item. The approach used in `spark.ml` to deal with such data is taken from [cf]. Essentially instead of finding the low-rank approximations to the rating matrix R, this finds the approximations for a preference matrix P where the elements of P are 1 if r > 0 and 0 if r <= 0. The ratings then act as ‘confidence’ values related to strength of indicated user preferences rather than explicit ratings given to items.\n",
    "\n",
    "All three datasets will be used to perform the task, therefore, different datasets need to be joined together by using `.join()` operations."
   ]
  },
  {
   "cell_type": "markdown",
   "metadata": {},
   "source": [
    "### Creating a new DataFrame"
   ]
  },
  {
   "cell_type": "code",
   "execution_count": 17,
   "metadata": {},
   "outputs": [],
   "source": [
    "#change name for starts to avoid duplicates\n",
    "df_business=business.withColumnRenamed(\"stars\", \"Restaurant_stars\")\n",
    "df_business=df_business.withColumnRenamed(\"name\", \"Restaurant_name\")\n",
    "\n",
    "#filter out businesses that are restarants\n",
    "df_business=df_business.filter(psf.col('categories').\n",
    "                               rlike('Restaurants'))\n",
    "df_business = df_business.select('*','attributes.*','hours.*')\n",
    "\n",
    "#dropping unwanted columns\n",
    "columns_to_drop = ['address','postal_code','review_count',\n",
    "                   'attributes','hours']\n",
    "df_business = df_business.drop(*columns_to_drop)"
   ]
  },
  {
   "cell_type": "markdown",
   "metadata": {},
   "source": [
    "Clear contents in categories column by using `regexp_replace()` which works in a similar way as the `replace()` function. "
   ]
  },
  {
   "cell_type": "code",
   "execution_count": 18,
   "metadata": {},
   "outputs": [],
   "source": [
    "df_business = df_business.withColumn('categories', \n",
    "regexp_replace(col(\"categories\"), \"(,?\\ ?Restaurants,?)\", \"\"))\n",
    "\n",
    "df_business = df_business.withColumn('categories', \n",
    "regexp_replace(col(\"categories\"), \"( ?)\", \"\"))"
   ]
  },
  {
   "cell_type": "code",
   "execution_count": 20,
   "metadata": {},
   "outputs": [],
   "source": [
    "columns_to_drop = ['elite','useful','yelping_since',\n",
    "                   'review_count','average_stars']\n",
    "df_user = user.drop(*columns_to_drop)\n",
    "df_user=df_user.withColumnRenamed(\"name\", \"user_name\")"
   ]
  },
  {
   "cell_type": "code",
   "execution_count": 21,
   "metadata": {},
   "outputs": [],
   "source": [
    "columns_to_drop = ['cool','funny','average_stars']\n",
    "df_reviews = review.drop(*columns_to_drop)"
   ]
  },
  {
   "cell_type": "markdown",
   "metadata": {},
   "source": [
    "Assigning an integer to user/business "
   ]
  },
  {
   "cell_type": "code",
   "execution_count": 22,
   "metadata": {},
   "outputs": [],
   "source": [
    "w = Window().orderBy('business_id')\n",
    "\n",
    "df_business= df_business.withColumn(\n",
    "    \"business_id_int\", psf.row_number().over(w))\n",
    "\n",
    "w = Window().orderBy('user_id')\n",
    "df_user= df_user.withColumn(\"user_id_int\", psf.row_number().over(w))"
   ]
  },
  {
   "cell_type": "markdown",
   "metadata": {},
   "source": [
    "Merging all three tables together by inner join."
   ]
  },
  {
   "cell_type": "code",
   "execution_count": 23,
   "metadata": {},
   "outputs": [],
   "source": [
    "#join three tables into one table\n",
    "df = df_reviews.join(df_business,on ='business_id', how = 'inner')\n",
    "df = df.join(df_user,on ='user_id', how = 'inner')"
   ]
  },
  {
   "cell_type": "markdown",
   "metadata": {},
   "source": [
    "Only keeping restaurants in Las Vegas."
   ]
  },
  {
   "cell_type": "code",
   "execution_count": 24,
   "metadata": {},
   "outputs": [],
   "source": [
    "df_las = df.filter(psf.col('city')=='Las Vegas'\n",
    "                  ).filter(psf.col('state')=='NV')"
   ]
  },
  {
   "cell_type": "code",
   "execution_count": 25,
   "metadata": {},
   "outputs": [],
   "source": [
    "from pyspark.ml.recommendation import ALS"
   ]
  },
  {
   "cell_type": "code",
   "execution_count": 26,
   "metadata": {},
   "outputs": [],
   "source": [
    "ratings = df_las.select('user_id_int','business_id_int',\n",
    "                        'Restaurant_name','user_name','stars')"
   ]
  },
  {
   "cell_type": "markdown",
   "metadata": {},
   "source": [
    "### Fitting the model"
   ]
  },
  {
   "cell_type": "markdown",
   "metadata": {},
   "source": [
    "Setting `coldStartStrategy` parameter to “drop” in order to drop any rows in the DataFrame of predictions that contain NaN values. The evaluation metric will then be computed over the non-NaN data and will be valid"
   ]
  },
  {
   "cell_type": "code",
   "execution_count": 27,
   "metadata": {},
   "outputs": [],
   "source": [
    "#splitting dataset to training and testing\n",
    "train_df, test_df = ratings.randomSplit([.8,.2],seed=1)\n",
    "\n",
    "#setting the maximum number of iterations to 10\n",
    "#latent factors to 10\n",
    "als = ALS(maxIter=10, regParam=0.3, userCol=\"user_id_int\", \n",
    "          itemCol=\"business_id_int\", ratingCol=\"stars\",\n",
    "          coldStartStrategy=\"drop\", rank=10, nonnegative = True)\n",
    "\n",
    "#fit and predict\n",
    "model = als.fit(train_df)\n",
    "predictions = model.transform(test_df)"
   ]
  },
  {
   "cell_type": "markdown",
   "metadata": {},
   "source": [
    "Visualizing prediction dataset"
   ]
  },
  {
   "cell_type": "code",
   "execution_count": 28,
   "metadata": {},
   "outputs": [
    {
     "data": {
      "text/html": [
       "<div>\n",
       "<style scoped>\n",
       "    .dataframe tbody tr th:only-of-type {\n",
       "        vertical-align: middle;\n",
       "    }\n",
       "\n",
       "    .dataframe tbody tr th {\n",
       "        vertical-align: top;\n",
       "    }\n",
       "\n",
       "    .dataframe thead th {\n",
       "        text-align: right;\n",
       "    }\n",
       "</style>\n",
       "<table border=\"1\" class=\"dataframe\">\n",
       "  <thead>\n",
       "    <tr style=\"text-align: right;\">\n",
       "      <th></th>\n",
       "      <th>user_id_int</th>\n",
       "      <th>business_id_int</th>\n",
       "      <th>Restaurant_name</th>\n",
       "      <th>user_name</th>\n",
       "      <th>stars</th>\n",
       "      <th>prediction</th>\n",
       "    </tr>\n",
       "  </thead>\n",
       "  <tbody>\n",
       "    <tr>\n",
       "      <th>0</th>\n",
       "      <td>1815977</td>\n",
       "      <td>833</td>\n",
       "      <td>Distill - A Local Bar</td>\n",
       "      <td>Shane</td>\n",
       "      <td>5.0</td>\n",
       "      <td>3.927395</td>\n",
       "    </tr>\n",
       "    <tr>\n",
       "      <th>1</th>\n",
       "      <td>1328996</td>\n",
       "      <td>833</td>\n",
       "      <td>Distill - A Local Bar</td>\n",
       "      <td>Dave</td>\n",
       "      <td>4.0</td>\n",
       "      <td>3.022335</td>\n",
       "    </tr>\n",
       "    <tr>\n",
       "      <th>2</th>\n",
       "      <td>828272</td>\n",
       "      <td>833</td>\n",
       "      <td>Distill - A Local Bar</td>\n",
       "      <td>Cindy</td>\n",
       "      <td>5.0</td>\n",
       "      <td>2.331356</td>\n",
       "    </tr>\n",
       "    <tr>\n",
       "      <th>3</th>\n",
       "      <td>1812182</td>\n",
       "      <td>1580</td>\n",
       "      <td>Pho Bistro</td>\n",
       "      <td>D</td>\n",
       "      <td>5.0</td>\n",
       "      <td>4.479851</td>\n",
       "    </tr>\n",
       "    <tr>\n",
       "      <th>4</th>\n",
       "      <td>964027</td>\n",
       "      <td>1580</td>\n",
       "      <td>Pho Bistro</td>\n",
       "      <td>Jiaan</td>\n",
       "      <td>5.0</td>\n",
       "      <td>1.263741</td>\n",
       "    </tr>\n",
       "  </tbody>\n",
       "</table>\n",
       "</div>"
      ],
      "text/plain": [
       "   user_id_int  business_id_int        Restaurant_name user_name  stars  \\\n",
       "0      1815977              833  Distill - A Local Bar     Shane    5.0   \n",
       "1      1328996              833  Distill - A Local Bar      Dave    4.0   \n",
       "2       828272              833  Distill - A Local Bar     Cindy    5.0   \n",
       "3      1812182             1580             Pho Bistro         D    5.0   \n",
       "4       964027             1580             Pho Bistro     Jiaan    5.0   \n",
       "\n",
       "   prediction  \n",
       "0    3.927395  \n",
       "1    3.022335  \n",
       "2    2.331356  \n",
       "3    4.479851  \n",
       "4    1.263741  "
      ]
     },
     "execution_count": 28,
     "metadata": {},
     "output_type": "execute_result"
    }
   ],
   "source": [
    "predictions_df = predictions.toPandas()\n",
    "predictions_df.head()"
   ]
  },
  {
   "cell_type": "markdown",
   "metadata": {},
   "source": [
    "Boxplots of predictions of starts from 1 to 5"
   ]
  },
  {
   "cell_type": "code",
   "execution_count": 29,
   "metadata": {},
   "outputs": [
    {
     "data": {
      "text/plain": [
       "<matplotlib.axes._subplots.AxesSubplot at 0x7f59119b7b38>"
      ]
     },
     "execution_count": 29,
     "metadata": {},
     "output_type": "execute_result"
    },
    {
     "data": {
      "image/png": "[encoded data removed]",
      "text/plain": [
       "<Figure size 432x288 with 1 Axes>"
      ]
     },
     "metadata": {
      "needs_background": "light"
     },
     "output_type": "display_data"
    }
   ],
   "source": [
    "predictions_df.boxplot('prediction','stars')"
   ]
  },
  {
   "cell_type": "markdown",
   "metadata": {},
   "source": [
    "Computing the root mean squared error. "
   ]
  },
  {
   "cell_type": "code",
   "execution_count": 30,
   "metadata": {},
   "outputs": [
    {
     "name": "stdout",
     "output_type": "stream",
     "text": [
      "Root-mean-square error is 1.380695914984951\n"
     ]
    }
   ],
   "source": [
    "evaluator = RegressionEvaluator(metricName='rmse', labelCol='stars')\n",
    "rmse = evaluator.evaluate(predictions)\n",
    "print(\"Root-mean-square error is \" + str(rmse))"
   ]
  },
  {
   "cell_type": "markdown",
   "metadata": {},
   "source": [
    "Generating top 10 restauarnt recommendations for top 10 users"
   ]
  },
  {
   "cell_type": "code",
   "execution_count": 31,
   "metadata": {},
   "outputs": [],
   "source": [
    "# Generate top 10 restaurant recommendations for top 10 users\n",
    "userRecs = model.recommendForAllUsers(10).limit(10)\n",
    "userRecs_DF = (userRecs\n",
    "  .select(\"user_id_int\", explode(\"recommendations\")\n",
    "  .alias(\"recommendation\"))\n",
    "  .select(\"user_id_int\", \"recommendation.*\")\n",
    ")\n",
    "\n",
    "\n",
    "userRecs_DF2 = userRecs_DF.join(\n",
    "    df_user.select('user_id_int','user_name'), \n",
    "    on='user_id_int', how ='inner').join(\n",
    "    df_business.select('business_id_int','Restaurant_name'), \n",
    "    on='business_id_int', how ='inner')\n",
    "\n",
    "userRecs_df2 = userRecs_DF2.toPandas()"
   ]
  },
  {
   "cell_type": "markdown",
   "metadata": {},
   "source": [
    "Visualizing the results for top 2 users"
   ]
  },
  {
   "cell_type": "code",
   "execution_count": 32,
   "metadata": {},
   "outputs": [
    {
     "data": {
      "text/html": [
       "<div>\n",
       "<style scoped>\n",
       "    .dataframe tbody tr th:only-of-type {\n",
       "        vertical-align: middle;\n",
       "    }\n",
       "\n",
       "    .dataframe tbody tr th {\n",
       "        vertical-align: top;\n",
       "    }\n",
       "\n",
       "    .dataframe thead th {\n",
       "        text-align: right;\n",
       "    }\n",
       "</style>\n",
       "<table border=\"1\" class=\"dataframe\">\n",
       "  <thead>\n",
       "    <tr style=\"text-align: right;\">\n",
       "      <th></th>\n",
       "      <th>business_id_int</th>\n",
       "      <th>user_id_int</th>\n",
       "      <th>rating</th>\n",
       "      <th>user_name</th>\n",
       "      <th>Restaurant_name</th>\n",
       "    </tr>\n",
       "  </thead>\n",
       "  <tbody>\n",
       "    <tr>\n",
       "      <th>49</th>\n",
       "      <td>15411</td>\n",
       "      <td>1591</td>\n",
       "      <td>3.737341</td>\n",
       "      <td>Angela</td>\n",
       "      <td>Fernandez Hot-Dogs</td>\n",
       "    </tr>\n",
       "    <tr>\n",
       "      <th>48</th>\n",
       "      <td>50756</td>\n",
       "      <td>1591</td>\n",
       "      <td>3.724194</td>\n",
       "      <td>Angela</td>\n",
       "      <td>Roberta's Steakhouse</td>\n",
       "    </tr>\n",
       "    <tr>\n",
       "      <th>47</th>\n",
       "      <td>1259</td>\n",
       "      <td>1591</td>\n",
       "      <td>3.684286</td>\n",
       "      <td>Angela</td>\n",
       "      <td>Goat Post Tropical Grill</td>\n",
       "    </tr>\n",
       "    <tr>\n",
       "      <th>46</th>\n",
       "      <td>59279</td>\n",
       "      <td>1591</td>\n",
       "      <td>3.647804</td>\n",
       "      <td>Angela</td>\n",
       "      <td>Bambini's Pizzeria &amp; Italian Restaurant</td>\n",
       "    </tr>\n",
       "    <tr>\n",
       "      <th>45</th>\n",
       "      <td>34663</td>\n",
       "      <td>1591</td>\n",
       "      <td>3.625922</td>\n",
       "      <td>Angela</td>\n",
       "      <td>Sushi House Manda</td>\n",
       "    </tr>\n",
       "    <tr>\n",
       "      <th>44</th>\n",
       "      <td>31005</td>\n",
       "      <td>1591</td>\n",
       "      <td>3.597710</td>\n",
       "      <td>Angela</td>\n",
       "      <td>New York Street Dogs</td>\n",
       "    </tr>\n",
       "    <tr>\n",
       "      <th>43</th>\n",
       "      <td>3590</td>\n",
       "      <td>1591</td>\n",
       "      <td>3.595601</td>\n",
       "      <td>Angela</td>\n",
       "      <td>Steve-O's New York Pizza</td>\n",
       "    </tr>\n",
       "    <tr>\n",
       "      <th>42</th>\n",
       "      <td>18549</td>\n",
       "      <td>1591</td>\n",
       "      <td>3.589081</td>\n",
       "      <td>Angela</td>\n",
       "      <td>Las Delicias de México</td>\n",
       "    </tr>\n",
       "    <tr>\n",
       "      <th>41</th>\n",
       "      <td>51955</td>\n",
       "      <td>1591</td>\n",
       "      <td>3.537445</td>\n",
       "      <td>Angela</td>\n",
       "      <td>Buster's Dawg House</td>\n",
       "    </tr>\n",
       "    <tr>\n",
       "      <th>40</th>\n",
       "      <td>41497</td>\n",
       "      <td>1591</td>\n",
       "      <td>3.536797</td>\n",
       "      <td>Angela</td>\n",
       "      <td>Fusion Grille</td>\n",
       "    </tr>\n",
       "    <tr>\n",
       "      <th>89</th>\n",
       "      <td>1259</td>\n",
       "      <td>6336</td>\n",
       "      <td>4.870158</td>\n",
       "      <td>Catherine</td>\n",
       "      <td>Goat Post Tropical Grill</td>\n",
       "    </tr>\n",
       "    <tr>\n",
       "      <th>88</th>\n",
       "      <td>34663</td>\n",
       "      <td>6336</td>\n",
       "      <td>4.859621</td>\n",
       "      <td>Catherine</td>\n",
       "      <td>Sushi House Manda</td>\n",
       "    </tr>\n",
       "    <tr>\n",
       "      <th>87</th>\n",
       "      <td>14503</td>\n",
       "      <td>6336</td>\n",
       "      <td>4.763782</td>\n",
       "      <td>Catherine</td>\n",
       "      <td>Make It Yourself Pizza</td>\n",
       "    </tr>\n",
       "    <tr>\n",
       "      <th>86</th>\n",
       "      <td>33615</td>\n",
       "      <td>6336</td>\n",
       "      <td>4.724966</td>\n",
       "      <td>Catherine</td>\n",
       "      <td>Subwich Alley</td>\n",
       "    </tr>\n",
       "    <tr>\n",
       "      <th>85</th>\n",
       "      <td>27099</td>\n",
       "      <td>6336</td>\n",
       "      <td>4.657126</td>\n",
       "      <td>Catherine</td>\n",
       "      <td>Winter In July - A Pop-Up Lunch with Yonaka an...</td>\n",
       "    </tr>\n",
       "    <tr>\n",
       "      <th>84</th>\n",
       "      <td>42345</td>\n",
       "      <td>6336</td>\n",
       "      <td>4.598133</td>\n",
       "      <td>Catherine</td>\n",
       "      <td>Pret A Manger</td>\n",
       "    </tr>\n",
       "    <tr>\n",
       "      <th>83</th>\n",
       "      <td>59600</td>\n",
       "      <td>6336</td>\n",
       "      <td>4.577094</td>\n",
       "      <td>Catherine</td>\n",
       "      <td>Jimmy's Louisiana Market Deli</td>\n",
       "    </tr>\n",
       "    <tr>\n",
       "      <th>82</th>\n",
       "      <td>63047</td>\n",
       "      <td>6336</td>\n",
       "      <td>4.570646</td>\n",
       "      <td>Catherine</td>\n",
       "      <td>Halo Restaurant &amp; Bar</td>\n",
       "    </tr>\n",
       "    <tr>\n",
       "      <th>81</th>\n",
       "      <td>55031</td>\n",
       "      <td>6336</td>\n",
       "      <td>4.553860</td>\n",
       "      <td>Catherine</td>\n",
       "      <td>The Reset Project</td>\n",
       "    </tr>\n",
       "    <tr>\n",
       "      <th>80</th>\n",
       "      <td>35146</td>\n",
       "      <td>6336</td>\n",
       "      <td>4.553553</td>\n",
       "      <td>Catherine</td>\n",
       "      <td>Tetsuro's Sayonara, Aloha, Going Away Uye At J...</td>\n",
       "    </tr>\n",
       "  </tbody>\n",
       "</table>\n",
       "</div>"
      ],
      "text/plain": [
       "    business_id_int  user_id_int    rating  user_name  \\\n",
       "49            15411         1591  3.737341     Angela   \n",
       "48            50756         1591  3.724194     Angela   \n",
       "47             1259         1591  3.684286     Angela   \n",
       "46            59279         1591  3.647804     Angela   \n",
       "45            34663         1591  3.625922     Angela   \n",
       "44            31005         1591  3.597710     Angela   \n",
       "43             3590         1591  3.595601     Angela   \n",
       "42            18549         1591  3.589081     Angela   \n",
       "41            51955         1591  3.537445     Angela   \n",
       "40            41497         1591  3.536797     Angela   \n",
       "89             1259         6336  4.870158  Catherine   \n",
       "88            34663         6336  4.859621  Catherine   \n",
       "87            14503         6336  4.763782  Catherine   \n",
       "86            33615         6336  4.724966  Catherine   \n",
       "85            27099         6336  4.657126  Catherine   \n",
       "84            42345         6336  4.598133  Catherine   \n",
       "83            59600         6336  4.577094  Catherine   \n",
       "82            63047         6336  4.570646  Catherine   \n",
       "81            55031         6336  4.553860  Catherine   \n",
       "80            35146         6336  4.553553  Catherine   \n",
       "\n",
       "                                      Restaurant_name  \n",
       "49                                 Fernandez Hot-Dogs  \n",
       "48                               Roberta's Steakhouse  \n",
       "47                           Goat Post Tropical Grill  \n",
       "46            Bambini's Pizzeria & Italian Restaurant  \n",
       "45                                  Sushi House Manda  \n",
       "44                               New York Street Dogs  \n",
       "43                           Steve-O's New York Pizza  \n",
       "42                             Las Delicias de México  \n",
       "41                                Buster's Dawg House  \n",
       "40                                      Fusion Grille  \n",
       "89                           Goat Post Tropical Grill  \n",
       "88                                  Sushi House Manda  \n",
       "87                             Make It Yourself Pizza  \n",
       "86                                      Subwich Alley  \n",
       "85  Winter In July - A Pop-Up Lunch with Yonaka an...  \n",
       "84                                      Pret A Manger  \n",
       "83                      Jimmy's Louisiana Market Deli  \n",
       "82                              Halo Restaurant & Bar  \n",
       "81                                  The Reset Project  \n",
       "80  Tetsuro's Sayonara, Aloha, Going Away Uye At J...  "
      ]
     },
     "execution_count": 32,
     "metadata": {},
     "output_type": "execute_result"
    }
   ],
   "source": [
    "userRecs_df2.sort_values(['user_name','rating'],\n",
    "                         ascending=[True,False]).head(20)"
   ]
  },
  {
   "cell_type": "markdown",
   "metadata": {},
   "source": [
    "Generating top 10 user recommendations for top 10 restaurant"
   ]
  },
  {
   "cell_type": "code",
   "execution_count": 33,
   "metadata": {},
   "outputs": [],
   "source": [
    "# Generate top 10 user recommendations for top 10 restaurant\n",
    "restaurantRecs = model.recommendForAllItems(10).limit(10)\n",
    "restaurantRecs_DF = (restaurantRecs\n",
    "  .select(\"business_id_int\", explode(\"recommendations\")\n",
    "  .alias(\"recommendation\"))\n",
    "  .select(\"business_id_int\", \"recommendation.*\")\n",
    ")\n",
    "\n",
    "\n",
    "restaurantRecs_DF2 = restaurantRecs_DF.join(\n",
    "    df_user.select('user_id_int','user_name'), \n",
    "    on='user_id_int', how ='inner').join(\n",
    "    df_business.select('business_id_int','Restaurant_name'), \n",
    "    on='business_id_int', how ='inner')\n",
    "\n",
    "restaurantRecs_df2 = restaurantRecs_DF2.toPandas()"
   ]
  },
  {
   "cell_type": "code",
   "execution_count": 34,
   "metadata": {},
   "outputs": [
    {
     "data": {
      "text/html": [
       "<div>\n",
       "<style scoped>\n",
       "    .dataframe tbody tr th:only-of-type {\n",
       "        vertical-align: middle;\n",
       "    }\n",
       "\n",
       "    .dataframe tbody tr th {\n",
       "        vertical-align: top;\n",
       "    }\n",
       "\n",
       "    .dataframe thead th {\n",
       "        text-align: right;\n",
       "    }\n",
       "</style>\n",
       "<table border=\"1\" class=\"dataframe\">\n",
       "  <thead>\n",
       "    <tr style=\"text-align: right;\">\n",
       "      <th></th>\n",
       "      <th>business_id_int</th>\n",
       "      <th>user_id_int</th>\n",
       "      <th>rating</th>\n",
       "      <th>user_name</th>\n",
       "      <th>Restaurant_name</th>\n",
       "    </tr>\n",
       "  </thead>\n",
       "  <tbody>\n",
       "    <tr>\n",
       "      <th>33</th>\n",
       "      <td>44822</td>\n",
       "      <td>815762</td>\n",
       "      <td>6.712960</td>\n",
       "      <td>Erika</td>\n",
       "      <td>Bocho Sushi</td>\n",
       "    </tr>\n",
       "    <tr>\n",
       "      <th>1</th>\n",
       "      <td>44822</td>\n",
       "      <td>87161</td>\n",
       "      <td>6.696429</td>\n",
       "      <td>Robbyn</td>\n",
       "      <td>Bocho Sushi</td>\n",
       "    </tr>\n",
       "    <tr>\n",
       "      <th>89</th>\n",
       "      <td>44822</td>\n",
       "      <td>1842156</td>\n",
       "      <td>6.502682</td>\n",
       "      <td>Dayane</td>\n",
       "      <td>Bocho Sushi</td>\n",
       "    </tr>\n",
       "    <tr>\n",
       "      <th>20</th>\n",
       "      <td>44822</td>\n",
       "      <td>438921</td>\n",
       "      <td>6.318418</td>\n",
       "      <td>Milissa</td>\n",
       "      <td>Bocho Sushi</td>\n",
       "    </tr>\n",
       "    <tr>\n",
       "      <th>76</th>\n",
       "      <td>44822</td>\n",
       "      <td>1731950</td>\n",
       "      <td>6.318418</td>\n",
       "      <td>Jessica</td>\n",
       "      <td>Bocho Sushi</td>\n",
       "    </tr>\n",
       "    <tr>\n",
       "      <th>36</th>\n",
       "      <td>44822</td>\n",
       "      <td>851805</td>\n",
       "      <td>6.196334</td>\n",
       "      <td>Tim</td>\n",
       "      <td>Bocho Sushi</td>\n",
       "    </tr>\n",
       "    <tr>\n",
       "      <th>42</th>\n",
       "      <td>44822</td>\n",
       "      <td>927153</td>\n",
       "      <td>6.146085</td>\n",
       "      <td>Taylor</td>\n",
       "      <td>Bocho Sushi</td>\n",
       "    </tr>\n",
       "    <tr>\n",
       "      <th>98</th>\n",
       "      <td>44822</td>\n",
       "      <td>1924741</td>\n",
       "      <td>6.002655</td>\n",
       "      <td>Bruce</td>\n",
       "      <td>Bocho Sushi</td>\n",
       "    </tr>\n",
       "    <tr>\n",
       "      <th>61</th>\n",
       "      <td>44822</td>\n",
       "      <td>1371265</td>\n",
       "      <td>5.975948</td>\n",
       "      <td>Emily</td>\n",
       "      <td>Bocho Sushi</td>\n",
       "    </tr>\n",
       "    <tr>\n",
       "      <th>5</th>\n",
       "      <td>44822</td>\n",
       "      <td>108913</td>\n",
       "      <td>5.953279</td>\n",
       "      <td>Quest</td>\n",
       "      <td>Bocho Sushi</td>\n",
       "    </tr>\n",
       "    <tr>\n",
       "      <th>11</th>\n",
       "      <td>9852</td>\n",
       "      <td>266282</td>\n",
       "      <td>5.880277</td>\n",
       "      <td>Maxwell</td>\n",
       "      <td>Domino's Pizza</td>\n",
       "    </tr>\n",
       "    <tr>\n",
       "      <th>2</th>\n",
       "      <td>9852</td>\n",
       "      <td>87161</td>\n",
       "      <td>5.772831</td>\n",
       "      <td>Robbyn</td>\n",
       "      <td>Domino's Pizza</td>\n",
       "    </tr>\n",
       "    <tr>\n",
       "      <th>90</th>\n",
       "      <td>9852</td>\n",
       "      <td>1842156</td>\n",
       "      <td>5.710921</td>\n",
       "      <td>Dayane</td>\n",
       "      <td>Domino's Pizza</td>\n",
       "    </tr>\n",
       "    <tr>\n",
       "      <th>62</th>\n",
       "      <td>9852</td>\n",
       "      <td>1371265</td>\n",
       "      <td>5.686222</td>\n",
       "      <td>Emily</td>\n",
       "      <td>Domino's Pizza</td>\n",
       "    </tr>\n",
       "    <tr>\n",
       "      <th>26</th>\n",
       "      <td>9852</td>\n",
       "      <td>699363</td>\n",
       "      <td>5.640244</td>\n",
       "      <td>Trevor</td>\n",
       "      <td>Domino's Pizza</td>\n",
       "    </tr>\n",
       "    <tr>\n",
       "      <th>52</th>\n",
       "      <td>9852</td>\n",
       "      <td>1271201</td>\n",
       "      <td>5.640244</td>\n",
       "      <td>Patrick</td>\n",
       "      <td>Domino's Pizza</td>\n",
       "    </tr>\n",
       "    <tr>\n",
       "      <th>99</th>\n",
       "      <td>9852</td>\n",
       "      <td>1924741</td>\n",
       "      <td>5.634767</td>\n",
       "      <td>Bruce</td>\n",
       "      <td>Domino's Pizza</td>\n",
       "    </tr>\n",
       "    <tr>\n",
       "      <th>22</th>\n",
       "      <td>9852</td>\n",
       "      <td>452029</td>\n",
       "      <td>5.630756</td>\n",
       "      <td>Peter F.</td>\n",
       "      <td>Domino's Pizza</td>\n",
       "    </tr>\n",
       "    <tr>\n",
       "      <th>58</th>\n",
       "      <td>9852</td>\n",
       "      <td>1344124</td>\n",
       "      <td>5.630756</td>\n",
       "      <td>Chris</td>\n",
       "      <td>Domino's Pizza</td>\n",
       "    </tr>\n",
       "    <tr>\n",
       "      <th>70</th>\n",
       "      <td>9852</td>\n",
       "      <td>1469535</td>\n",
       "      <td>5.552094</td>\n",
       "      <td>Ben</td>\n",
       "      <td>Domino's Pizza</td>\n",
       "    </tr>\n",
       "  </tbody>\n",
       "</table>\n",
       "</div>"
      ],
      "text/plain": [
       "    business_id_int  user_id_int    rating user_name Restaurant_name\n",
       "33            44822       815762  6.712960     Erika     Bocho Sushi\n",
       "1             44822        87161  6.696429    Robbyn     Bocho Sushi\n",
       "89            44822      1842156  6.502682    Dayane     Bocho Sushi\n",
       "20            44822       438921  6.318418   Milissa     Bocho Sushi\n",
       "76            44822      1731950  6.318418   Jessica     Bocho Sushi\n",
       "36            44822       851805  6.196334       Tim     Bocho Sushi\n",
       "42            44822       927153  6.146085    Taylor     Bocho Sushi\n",
       "98            44822      1924741  6.002655     Bruce     Bocho Sushi\n",
       "61            44822      1371265  5.975948     Emily     Bocho Sushi\n",
       "5             44822       108913  5.953279     Quest     Bocho Sushi\n",
       "11             9852       266282  5.880277   Maxwell  Domino's Pizza\n",
       "2              9852        87161  5.772831    Robbyn  Domino's Pizza\n",
       "90             9852      1842156  5.710921    Dayane  Domino's Pizza\n",
       "62             9852      1371265  5.686222     Emily  Domino's Pizza\n",
       "26             9852       699363  5.640244    Trevor  Domino's Pizza\n",
       "52             9852      1271201  5.640244   Patrick  Domino's Pizza\n",
       "99             9852      1924741  5.634767     Bruce  Domino's Pizza\n",
       "22             9852       452029  5.630756  Peter F.  Domino's Pizza\n",
       "58             9852      1344124  5.630756     Chris  Domino's Pizza\n",
       "70             9852      1469535  5.552094       Ben  Domino's Pizza"
      ]
     },
     "execution_count": 34,
     "metadata": {},
     "output_type": "execute_result"
    }
   ],
   "source": [
    "restaurantRecs_df2.sort_values(['Restaurant_name','rating'],\n",
    "                               ascending=[True,False]).head(20)"
   ]
  },
  {
   "cell_type": "markdown",
   "metadata": {},
   "source": [
    "### Check the number of partitions used \n",
    "\n",
    "Spark also supports pulling data sets into a cluster-wide in-memory cache."
   ]
  },
  {
   "cell_type": "code",
   "execution_count": 36,
   "metadata": {},
   "outputs": [
    {
     "name": "stdout",
     "output_type": "stream",
     "text": [
      "Number of partitions:  200\n",
      "Number of workers: 2\n"
     ]
    }
   ],
   "source": [
    "# split the data to training and test parts\n",
    "(training, test) = ratings.randomSplit([0.8, 0.2], seed=10)\n",
    "training.cache()\n",
    "test.cache()\n",
    "print('Number of partitions: ', training.rdd.getNumPartitions())\n",
    "print('Number of workers:', sc._conf.get('spark.executor.instances'))"
   ]
  },
  {
   "cell_type": "markdown",
   "metadata": {},
   "source": [
    "### Tuning parameters to find the optimal model\n",
    "\n",
    "Here we use a function to compute RMSE for different combinations of parameters. "
   ]
  },
  {
   "cell_type": "code",
   "execution_count": 40,
   "metadata": {},
   "outputs": [],
   "source": [
    "def tune_ALS(train_data, validation_data, maxIter, regParams, ranks):\n",
    "    # initial\n",
    "    min_error = float('inf')\n",
    "    best_rank = -1\n",
    "    best_regularization = 0\n",
    "    best_model = None\n",
    "    for rank in ranks:\n",
    "        for reg in regParams:\n",
    "            # get ALS model\n",
    "#             als = ALS().setMaxIter(maxIter).setRank(rank).setRegParam(reg)\n",
    "            als = ALS(maxIter=maxIter, regParam=reg, userCol=\"user_id_int\", \n",
    "                      itemCol=\"business_id_int\", ratingCol=\"stars\",\n",
    "                      coldStartStrategy=\"drop\", nonnegative = True, rank = rank)\n",
    "            # train ALS model\n",
    "            model = als.fit(train_data)\n",
    "            # evaluate the model by computing the RMSE on the validation data\n",
    "            predictions = model.transform(validation_data)\n",
    "            evaluator = RegressionEvaluator(metricName=\"rmse\",\n",
    "                                            labelCol=\"stars\",\n",
    "                                            predictionCol=\"prediction\")\n",
    "            rmse = evaluator.evaluate(predictions)\n",
    "            print('{} latent factors and regularization = {}: '\n",
    "                  'validation RMSE is {}'.format(rank, reg, rmse))\n",
    "            if rmse < min_error:\n",
    "                min_error = rmse\n",
    "                best_rank = rank\n",
    "                best_regularization = reg\n",
    "                best_model = model\n",
    "    print('\\nThe best model has {} latent factors and '\n",
    "          'regularization = {}'.format(best_rank, best_regularization))\n",
    "    return best_model"
   ]
  },
  {
   "cell_type": "markdown",
   "metadata": {},
   "source": [
    "Compare the results using 3 different regularization parameters and 3 different latent factors."
   ]
  },
  {
   "cell_type": "code",
   "execution_count": 42,
   "metadata": {},
   "outputs": [
    {
     "name": "stdout",
     "output_type": "stream",
     "text": [
      "5 latent factors and regularization = 0.01: validation RMSE is 1.7250521442604057\n",
      "5 latent factors and regularization = 0.3: validation RMSE is 1.3749662326586523\n",
      "5 latent factors and regularization = 0.8: validation RMSE is 1.493523180256213\n",
      "10 latent factors and regularization = 0.01: validation RMSE is 1.8570543096614813\n",
      "10 latent factors and regularization = 0.3: validation RMSE is 1.3806959151683817\n",
      "10 latent factors and regularization = 0.8: validation RMSE is 1.4936261586806128\n",
      "20 latent factors and regularization = 0.01: validation RMSE is 1.9089116491338207\n",
      "20 latent factors and regularization = 0.3: validation RMSE is 1.3815536747928088\n",
      "20 latent factors and regularization = 0.8: validation RMSE is 1.4937304764851418\n",
      "\n",
      "The best model has 5 latent factors and regularization = 0.3\n"
     ]
    }
   ],
   "source": [
    "best_model = tune_ALS(train_df, test_df, \n",
    "maxIter = 10, regParams=[0.01, 0.3,0.8], ranks=[5, 10, 20])"
   ]
  },
  {
   "cell_type": "markdown",
   "metadata": {},
   "source": [
    "### Checking the computation speed of using different partitions numbers"
   ]
  },
  {
   "cell_type": "code",
   "execution_count": 39,
   "metadata": {},
   "outputs": [
    {
     "name": "stdout",
     "output_type": "stream",
     "text": [
      "Number of partitions: 200\n",
      "time:  49.48891615867615\n",
      "Number of partitions: 140\n",
      "time:  47.16059136390686\n",
      "Number of partitions: 80\n",
      "time:  45.37790870666504\n",
      "Number of partitions: 20\n",
      "time:  43.57287240028381\n"
     ]
    }
   ],
   "source": [
    "import time\n",
    "from numpy import sqrt, array, sin\n",
    "times = []\n",
    "\n",
    "for npart in range(200, 10, -60):\n",
    "    (training, test) = ratings.randomSplit([0.8, 0.2], seed=10)\n",
    "    training = training.repartition(npart)\n",
    "    print(\"Number of partitions: {}\".format(training.rdd.getNumPartitions()))\n",
    "    t0 = time.time()\n",
    "    als = ALS(maxIter=10, regParam=0.3, userCol=\"user_id_int\", itemCol=\"business_id_int\", ratingCol=\"stars\",\n",
    "          coldStartStrategy=\"drop\", rank=10, nonnegative = True)\n",
    "#fit and predict\n",
    "    model = als.fit(training)\n",
    "    predictions = model.transform(test)\n",
    "    evaluator = RegressionEvaluator(metricName='rmse', labelCol='stars')\n",
    "    rmse = evaluator.evaluate(predictions)\n",
    "    #print(\"Root-mean-square error: \" + rmse)\n",
    "    dt = time.time() - t0\n",
    "    print(\"time: \",dt)\n",
    "    times = times + [dt]"
   ]
  },
  {
   "cell_type": "markdown",
   "metadata": {},
   "source": [
    "## Graph analysis\n",
    "\n",
    "This section explores the use of GraphFrames package for Apache Spark. \n",
    "\n",
    "### Building the graph"
   ]
  },
  {
   "cell_type": "code",
   "execution_count": 7,
   "metadata": {},
   "outputs": [],
   "source": [
    "import graphframes\n",
    "from graphframes import *"
   ]
  },
  {
   "cell_type": "code",
   "execution_count": 39,
   "metadata": {},
   "outputs": [],
   "source": [
    "business = business.dropna()\n",
    "user = user.dropna()\n",
    "review = review.dropna()"
   ]
  },
  {
   "cell_type": "markdown",
   "metadata": {},
   "source": [
    "A graph contains vertices and edges. Vertices are nodes in the graph representing objects, edges are relationships that links between vertices. For Yelp, a typical use of vertices would be users and companies. \n",
    "\n",
    "Vertices contain the following information in the form of columns: `id`, `name`, `type` and `city`."
   ]
  },
  {
   "cell_type": "code",
   "execution_count": 102,
   "metadata": {},
   "outputs": [
    {
     "name": "stdout",
     "output_type": "stream",
     "text": [
      "+--------------------+--------------------+-------+---------------+\n",
      "|                  id|                name|   type|           city|\n",
      "+--------------------+--------------------+-------+---------------+\n",
      "|f9NumwFMBDn751xgF...|The Range At Lake...|company|      Cornelius|\n",
      "|Yzvjg0SayhoZgCljU...|   Carlos Santo, NMD|company|     Scottsdale|\n",
      "|XNoUzKckATkOD1hP6...|             Felinus|company|       Montreal|\n",
      "|6OAZjbxqM5ol29BuH...|Nevada House of Hose|company|North Las Vegas|\n",
      "|51M2Kk903DFYI6gnB...|USE MY GUY SERVIC...|company|           Mesa|\n",
      "+--------------------+--------------------+-------+---------------+\n",
      "only showing top 5 rows\n",
      "\n"
     ]
    }
   ],
   "source": [
    "#adding type of businesses as company \n",
    "b_V = business.withColumn( \"type\", f.lit(\"company\") ) \\\n",
    ".select( f.col(\"business_id\").alias(\"id\"),\n",
    "\"name\", \"type\", \"city\")\n",
    "b_V.show(5)"
   ]
  },
  {
   "cell_type": "code",
   "execution_count": 103,
   "metadata": {},
   "outputs": [
    {
     "name": "stdout",
     "output_type": "stream",
     "text": [
      "+--------------------+--------+----+----+\n",
      "|                  id|    name|type|city|\n",
      "+--------------------+--------+----+----+\n",
      "|ntlvfPzc8eglqvk92...|  Rafael|user|    |\n",
      "|FOBRPlBHa3WPHFB5q...|Michelle|user|    |\n",
      "|zZUnPeh2hEp0WydbA...|  Martin|user|    |\n",
      "|QaELAmRcDc5TfJEyl...|    John|user|    |\n",
      "|xvu8G900tezTzbbfq...|    Anne|user|    |\n",
      "+--------------------+--------+----+----+\n",
      "only showing top 5 rows\n",
      "\n"
     ]
    }
   ],
   "source": [
    "u_V = user.withColumn(\"type\", f.lit(\"user\")) \\\n",
    ".withColumn(\"city\", f.lit(\"\")) \\\n",
    ".select( f.col(\"user_id\").alias(\"id\"),\n",
    "\"name\", \"type\", \"city\")\n",
    "\n",
    "u_V.show(5)"
   ]
  },
  {
   "cell_type": "markdown",
   "metadata": {},
   "source": [
    "Set the begin and end edge columns to **src** and **dst** for the edges DataFrame. **src** are users and **dsc** are businesses. The columns in the edge DataFrame are `src`, `dst`, `relationship`, `stars`. (user reviewed company)"
   ]
  },
  {
   "cell_type": "code",
   "execution_count": 104,
   "metadata": {},
   "outputs": [
    {
     "name": "stdout",
     "output_type": "stream",
     "text": [
      "+--------------------+--------------------+------------+-----+\n",
      "|                 src|                 dst|relationship|stars|\n",
      "+--------------------+--------------------+------------+-----+\n",
      "|OwjRMXRC0KyPrIlcj...|-MhfebM0QIsKt87iD...|    reviewed|  2.0|\n",
      "|nIJD_7ZXHq-FX8byP...|lbrU8StCq3yDfr-QM...|    reviewed|  1.0|\n",
      "|V34qejxNsCbcgD8C0...|HQl28KMwrEKHqhFrr...|    reviewed|  5.0|\n",
      "|ofKDkJKXSKZXu5xJN...|5JxlZaqCnk1MnbgRi...|    reviewed|  1.0|\n",
      "|UgMW8bLE0QMJDCkQ1...|IS4cv902ykd8wj1TR...|    reviewed|  4.0|\n",
      "+--------------------+--------------------+------------+-----+\n",
      "only showing top 5 rows\n",
      "\n"
     ]
    }
   ],
   "source": [
    "r_E = review.withColumn(\"relationship\", f.lit(\"reviewed\")) \\\n",
    ".select( f.col(\"user_id\").alias(\"src\"),\n",
    "f.col(\"business_id\").alias(\"dst\"),\n",
    "\"relationship\", \"stars\")\n",
    "\n",
    "r_E.show(5)"
   ]
  },
  {
   "cell_type": "markdown",
   "metadata": {},
   "source": [
    "Another edge DataFrame is added representing relationships between users. If 2 users are friends then there is an edge pointing from **src** to **dst**. The stars column here is set to empty. We need this column to match the dimensions of previous DataFrames."
   ]
  },
  {
   "cell_type": "code",
   "execution_count": 105,
   "metadata": {},
   "outputs": [
    {
     "name": "stdout",
     "output_type": "stream",
     "text": [
      "+--------------------+--------------------+------------+-----+\n",
      "|                 src|                 dst|relationship|stars|\n",
      "+--------------------+--------------------+------------+-----+\n",
      "|ntlvfPzc8eglqvk92...|oeMvJh94PiGQnx_6G...|      friend|     |\n",
      "|ntlvfPzc8eglqvk92...|wm1z1PaJKvHgSDRKf...|      friend|     |\n",
      "|ntlvfPzc8eglqvk92...|IkRib6Xs91PPW7pon...|      friend|     |\n",
      "|ntlvfPzc8eglqvk92...|A8Aq8f0-XvLBcyMk2...|      friend|     |\n",
      "|ntlvfPzc8eglqvk92...|eEZM1kogR7eL4GOBZ...|      friend|     |\n",
      "+--------------------+--------------------+------------+-----+\n",
      "only showing top 5 rows\n",
      "\n"
     ]
    }
   ],
   "source": [
    "f_E = user.withColumn(\"relationship\", f.lit(\"friend\")) \\\n",
    ".withColumn(\"stars\", f.lit(\"\")) \\\n",
    ".select(f.col(\"user_id\").alias(\"src\"),\n",
    "f.explode(f.split(\"friends\", \", \")).alias(\"dst\"),\n",
    "\"relationship\", \"stars\")\n",
    "f_E.show(5)"
   ]
  },
  {
   "cell_type": "markdown",
   "metadata": {},
   "source": [
    "The GraphFrame is then created by specifying vertices and edges. `.union()` allows us to find all the vertices and edges.  "
   ]
  },
  {
   "cell_type": "code",
   "execution_count": 106,
   "metadata": {},
   "outputs": [],
   "source": [
    "all_vertices = u_V.union(b_V)\n",
    "all_edges = r_E.union(f_E)\n",
    "g1 = GraphFrame(all_vertices, all_edges)"
   ]
  },
  {
   "cell_type": "markdown",
   "metadata": {},
   "source": [
    "### Breath First Search (BFS)\n",
    "\n",
    "**BFS** is an algorithm for searching graph data structures. It starts from the root node and explore all the neighbour nodes at the present depth prior to moving on to the nodes at the next depth level. \n",
    "\n",
    "BFS is used on this user-business GraphFrame to find shortest path between the user and business in Las Vegas. "
   ]
  },
  {
   "cell_type": "markdown",
   "metadata": {},
   "source": [
    "The built in function `.bfs()` performs a bfs easily by taking in vertex and edge filters, `maxPathLength` is the limit on the length of paths. For example, a restaurant recommendation for user Shobeir based on what his friends have liked or the star rating of the restaurant itself in Las vegas could be achieved by:"
   ]
  },
  {
   "cell_type": "code",
   "execution_count": 109,
   "metadata": {},
   "outputs": [
    {
     "name": "stdout",
     "output_type": "stream",
     "text": [
      "+-------+------------+---------------+---------+\n",
      "|   name|relationship|           name|     city|\n",
      "+-------+------------+---------------+---------+\n",
      "|Shobeir|      friend|Costco Gasoline|Las Vegas|\n",
      "+-------+------------+---------------+---------+\n",
      "\n"
     ]
    }
   ],
   "source": [
    "path = g1.bfs(\"name = 'Shobeir'\", \n",
    "              \"city = 'Las Vegas'\", \n",
    "              edgeFilter = \"stars = 5 or relationship = 'friend'\", \n",
    "              maxPathLength = 4)\n",
    "\n",
    "path.select(\"from.name\", \"e0.relationship\", \"to.name\", \"to.city\").show()"
   ]
  },
  {
   "cell_type": "markdown",
   "metadata": {},
   "source": [
    "### Motif finding queries"
   ]
  },
  {
   "cell_type": "markdown",
   "metadata": {},
   "source": [
    "Next, we perform motif finding tasks on a subset of the original business dataframe. Businesses from 3 cities (Fairview, Burton, Bridgeville) were selected. `review_count` attribute was added to Vertices. `useful` attribute was added to Edges."
   ]
  },
  {
   "cell_type": "code",
   "execution_count": 113,
   "metadata": {},
   "outputs": [],
   "source": [
    "business.createOrReplaceTempView(\"business\")\n",
    "\n",
    "#filtering business from three cities\n",
    "business = spark.sql(\"SELECT * FROM business WHERE \\\n",
    "business.city = 'Fairview' or business.city = 'Burton' \\ \n",
    "or business.city = 'Bridgeville'\")"
   ]
  },
  {
   "cell_type": "code",
   "execution_count": 62,
   "metadata": {},
   "outputs": [],
   "source": [
    "#let's first create the vertex dataframe \n",
    "business_v = business.withColumn(\"type\", f.lit(\"company\")). \\\n",
    "withColumnRenamed(\"business_id\",\"id\").select(\"id\",\"name\",\"review_count\", \"type\",\"city\")\n",
    "user_v = user.withColumn(\"type\", f.lit(\"user\")).withColumn(\"city\", f.lit(\"\")).withColumnRenamed(\"user_id\",\"id\" \\\n",
    "            ).select(\"id\",\"name\",\"review_count\", \"type\", \"city\")"
   ]
  },
  {
   "cell_type": "code",
   "execution_count": 63,
   "metadata": {},
   "outputs": [],
   "source": [
    "#edge dataframe \n",
    "review_e = review.withColumn(\"relationship\", \\\n",
    "                             f.lit(\"reviewed\")\n",
    ").withColumnRenamed(\"user_id\",\"src\") \\\n",
    ".withColumnRenamed(\"business_id\",\"dst\") \\\n",
    ".select(\"src\",\"dst\", \"stars\",\"useful\", \"relationship\")\n",
    "\n",
    "\n",
    "friend_e = user.withColumn(\"useful\", f.lit(\"\")).withColumn(\"relationship\", f.lit(\"friend\")) \\\n",
    ".withColumn(\"stars\", f.lit(\"\")) \\\n",
    ".select(f.col(\"user_id\").alias(\"src\"), explode(split(\"friends\", \", \")\n",
    ").alias(\"dst\"), \"stars\", \"useful\", \"relationship\")"
   ]
  },
  {
   "cell_type": "code",
   "execution_count": 64,
   "metadata": {},
   "outputs": [],
   "source": [
    "#creating the graphframe\n",
    "all_vertices = user_v.union(business_v)\n",
    "all_edges = review_e.union(friend_e)\n",
    "g = GraphFrame(all_vertices, all_edges)\n"
   ]
  },
  {
   "cell_type": "code",
   "execution_count": 65,
   "metadata": {},
   "outputs": [
    {
     "name": "stdout",
     "output_type": "stream",
     "text": [
      "+--------------------+--------+------------+----+----+\n",
      "|                  id|    name|review_count|type|city|\n",
      "+--------------------+--------+------------+----+----+\n",
      "|ntlvfPzc8eglqvk92...|  Rafael|         553|user|    |\n",
      "|FOBRPlBHa3WPHFB5q...|Michelle|         564|user|    |\n",
      "|zZUnPeh2hEp0WydbA...|  Martin|          60|user|    |\n",
      "|QaELAmRcDc5TfJEyl...|    John|         206|user|    |\n",
      "|xvu8G900tezTzbbfq...|    Anne|         485|user|    |\n",
      "|z5_82komKV3mI4ASG...|   Steve|         186|user|    |\n",
      "|ttumcu6hWshk_EJVW...|  Stuart|          12|user|    |\n",
      "|f4_MRNHvN-yRn7EA8...|Jennifer|         822|user|    |\n",
      "|UYACF30806j2mfbB5...|  Justin|          14|user|    |\n",
      "|QG13XBbgHWydzThRB...|  Claire|         218|user|    |\n",
      "+--------------------+--------+------------+----+----+\n",
      "only showing top 10 rows\n",
      "\n"
     ]
    }
   ],
   "source": [
    "g.vertices.show(10)"
   ]
  },
  {
   "cell_type": "code",
   "execution_count": 66,
   "metadata": {},
   "outputs": [
    {
     "name": "stdout",
     "output_type": "stream",
     "text": [
      "+--------------------+--------------------+-----+------+------------+\n",
      "|                 src|                 dst|stars|useful|relationship|\n",
      "+--------------------+--------------------+-----+------+------------+\n",
      "|OwjRMXRC0KyPrIlcj...|-MhfebM0QIsKt87iD...|  2.0|     5|    reviewed|\n",
      "|nIJD_7ZXHq-FX8byP...|lbrU8StCq3yDfr-QM...|  1.0|     1|    reviewed|\n",
      "|V34qejxNsCbcgD8C0...|HQl28KMwrEKHqhFrr...|  5.0|     1|    reviewed|\n",
      "|ofKDkJKXSKZXu5xJN...|5JxlZaqCnk1MnbgRi...|  1.0|     0|    reviewed|\n",
      "|UgMW8bLE0QMJDCkQ1...|IS4cv902ykd8wj1TR...|  4.0|     0|    reviewed|\n",
      "|5vD2kmE25YBrbayKh...|nlxHRv1zXGT0c0K51...|  5.0|     2|    reviewed|\n",
      "|aq_ZxGHiri48TUXJl...|Pthe4qk5xh4n-ef-9...|  5.0|     1|    reviewed|\n",
      "|dsd-KNYKMpx6ma_sR...|FNCJpSn0tL9iqoY3J...|  5.0|     0|    reviewed|\n",
      "|P6apihD4ASf1vpPxH...|e_BiI4ej1CW1F0EyV...|  5.0|     0|    reviewed|\n",
      "|jOERvhmK6_lo_XGUB...|Ws8V970-mQt2X9CwC...|  4.0|     3|    reviewed|\n",
      "+--------------------+--------------------+-----+------+------------+\n",
      "only showing top 10 rows\n",
      "\n"
     ]
    }
   ],
   "source": [
    "g.edges.show(10)"
   ]
  },
  {
   "cell_type": "markdown",
   "metadata": {},
   "source": [
    "#### Vertex degrees\n",
    "\n",
    "For a directed graph G=(V(G),E(G)) and a vertex x1∈V(G), the `outDegree` of x1 refers to the number of arcs incident from x1. That is, the number of arcs directed away from the vertex x1. The `inDegree` of x1 refers to the number of arcs incident to x1. That is, the number of arcs directed towards the vertex x1. `degree` of a vertex of a graph is the number of edges that are incident to the vertex. \n",
    "\n",
    "In our graph, degree represents the number of reviews and relationship a user holds."
   ]
  },
  {
   "cell_type": "code",
   "execution_count": 67,
   "metadata": {},
   "outputs": [
    {
     "name": "stdout",
     "output_type": "stream",
     "text": [
      "+--------------------+------+\n",
      "|                  id|degree|\n",
      "+--------------------+------+\n",
      "|                None|834851|\n",
      "|qVc8ODYU5SZjKXVBg...| 19183|\n",
      "|iLjMdZi0Tm7DQxX1C...| 16508|\n",
      "|ZIOCmdFaMIF56FR-n...| 15838|\n",
      "|Oi1qbcz2m2SnwUezt...| 14040|\n",
      "+--------------------+------+\n",
      "only showing top 5 rows\n",
      "\n"
     ]
    }
   ],
   "source": [
    "g.degrees.sort(\"Degree\", ascending=False).show(5)"
   ]
  },
  {
   "cell_type": "code",
   "execution_count": 46,
   "metadata": {},
   "outputs": [
    {
     "data": {
      "image/png": "[encoded data removed]",
      "text/plain": [
       "<Figure size 432x288 with 1 Axes>"
      ]
     },
     "metadata": {
      "needs_background": "light"
     },
     "output_type": "display_data"
    }
   ],
   "source": [
    "plt.hist(g.degrees.select(\"degree\").rdd.flatMap(lambda x: x).collect(), bins=range(1,10));\n",
    "plt.ylabel('Number of reviews')\n",
    "plt.xlabel('Degree');"
   ]
  },
  {
   "cell_type": "markdown",
   "metadata": {},
   "source": [
    "#### Find how many users have given 5 star review to businesses from two different cities\n",
    "\n",
    "* A pattern that contains two edges, user has reviewed business1 and user has reviewed business2\n",
    "* User reviewed a business: `(u)-[r1]->(b1)`\n",
    "* Filter the returned edge sets (using `results.filter()`) to specify that businesses (b1 and b2) should be from different cities and both of the review edges should be 5 star reviews.\n",
    "* Filtering by review stars: `r1.stars = 5`\n",
    "* Filtering by cities being different: `b1.city != b2.city`\n",
    "\n",
    "The result shows that 31555 users have given 5 stars review to businesses from 2 different cities. "
   ]
  },
  {
   "cell_type": "code",
   "execution_count": 68,
   "metadata": {},
   "outputs": [],
   "source": [
    "task1 = g.find(\"(u)-[r1]->(b1); (u)-[r2]->(b2)\").filter(\"r1.stars = 5 and b1.city != b2.city\")"
   ]
  },
  {
   "cell_type": "code",
   "execution_count": 69,
   "metadata": {},
   "outputs": [
    {
     "data": {
      "text/plain": [
       "31555"
      ]
     },
     "execution_count": 69,
     "metadata": {},
     "output_type": "execute_result"
    }
   ],
   "source": [
    "task1.count()"
   ]
  },
  {
   "cell_type": "markdown",
   "metadata": {},
   "source": [
    "#### Top 5 businesses which have received the most conflicted reviews from pairs of friends\n",
    "\n",
    "Definition of Conflicting reviews from a pair of friends: Two users who are friends gave the opposite review score to the same business. \n",
    "We use stars threshold 2 & 4 to represent opposite reviews. i.e. A pair of friends rated below 2 and above 4 stars respectively.\n",
    "\n",
    "A motif query for finding all possible edge sets where:\n",
    "Vertices `u1` and `u2` (*users*) and connected through two different (*review*) Edges to the same Vertex `b` (*company*).\n",
    "`u1` and `u2` are connected through a (*friend*) Edge.\n",
    "\n",
    "Filter the results by:\n",
    "* `b` is of type **company**\n",
    "* Two review scores must be conflicting\n",
    "* Edge between users `u1` and `u2` should be of type friend\n",
    "* `groupby` the `Business vertex`, compute count, `orderby` **count** in **descending** manner and **limit** results to **5**."
   ]
  },
  {
   "cell_type": "code",
   "execution_count": 70,
   "metadata": {},
   "outputs": [],
   "source": [
    "#specifying the path query\n",
    "task2 = g.find(\"(u1)-[r1]->(b); (u2)-[r2]->(b); (u1)-[f]->(u2)\")\n",
    "\n",
    "#filter type by company, one of the rating must be below 2 stars\n",
    "#while the other bigger than 4\n",
    "task2_filter  = task2.filter(\"b.type = 'company'and r1.stars <= 2 and \\\n",
    "r2.stars>=4 and f.relationship = 'friend'\")"
   ]
  },
  {
   "cell_type": "code",
   "execution_count": 72,
   "metadata": {},
   "outputs": [
    {
     "name": "stdout",
     "output_type": "stream",
     "text": [
      "+--------------------+-----+\n",
      "|                name|count|\n",
      "+--------------------+-----+\n",
      "|Walnut Grill - Br...|   15|\n",
      "|Bubba's Gourmet B...|   15|\n",
      "|             Topgolf|   11|\n",
      "|     Texas Roadhouse|    8|\n",
      "|        Blazin Bills|    7|\n",
      "+--------------------+-----+\n",
      "\n"
     ]
    }
   ],
   "source": [
    "#Group the found paths by the Business vertex, \n",
    "#compute count, order by count in descending manner \n",
    "#and limit results to 5.\n",
    "result = task2_filter.groupBy(\"b.name\").count().orderBy(desc(\"count\")).limit(5)\n",
    "result.show()"
   ]
  },
  {
   "cell_type": "markdown",
   "metadata": {},
   "source": [
    "## Conclusion\n",
    "\n",
    "Yelp dataset is rich and allows for different kinds of data analytics. By utilizing the use of PySpark and its built-in functional APIs, one is able to perform a wide range of tasks. Spark SQL allows for different types of queries, packages such as MLlib supports scalabe machine learning methods, motif finding using Graphframe enables efficient processing in relational data structures. This project focused on the wide range of functionalities that PySpark has to offer as well as the implementation of distributed computing in its built in packages. "
   ]
  },
  {
   "cell_type": "markdown",
   "metadata": {},
   "source": [
    "## References\n",
    "\n",
    "[1] Apache Spark documentation. https://spark.apache.org/docs/latest/\n",
    "\n",
    "[2] Apache Spark Project https://spark.apache.org/\n",
    "\n",
    "[3] PySpark documentation https://spark.apache.org/docs/1.3.1/api/python/pyspark.sql.html\n",
    "\n",
    "https://towardsdatascience.com/prototyping-a-recommender-system-step-by-step-part-2-alternating-least-square-als-matrix-4a76c58714a1\n",
    "\n",
    "[4] Koren, Yehuda, Robert Bell, and Chris Volinsky. \"Matrix factorization techniques for recommender systems.\" Computer 42.8 (2009): 30-37.\n",
    "\n",
    "[5] Y. Hu, Y. Koren and C. Volinsky, \"Collaborative Filtering for Implicit Feedback Datasets,\" 2008 Eighth IEEE International Conference on Data Mining, Pisa, 2008, pp. 263-272.\n",
    "\n",
    "[6] Gonzalez, Joseph E., et al. \"Graphx: Graph processing in a distributed dataflow framework.\" 11th {USENIX} Symposium on Operating Systems Design and Implementation ({OSDI} 14). 2014.\n",
    "\n",
    "[7] GraphFrames documentation https://docs.databricks.com/spark/latest/graph-analysis/graphframes/user-guide-python.html\n",
    "\n",
    "[8] Singh, Ruchi, et al. \"Applications of Machine Learning Models on Yelp Data.\" Asia Pacific Journal of Information Systems 29.1 (2019): 117-143.\n",
    "\n",
    "[9] Yu, Boya, et al. \"Identifying Restaurant Features via Sentiment Analysis on Yelp Reviews.\" arXiv preprint arXiv:1709.08698 (2017)."
   ]
  }
 ],
 "metadata": {
  "kernelspec": {
   "display_name": "PySpark",
   "language": "python",
   "name": "pyspark"
  },
  "language_info": {
   "codemirror_mode": {
    "name": "ipython",
    "version": 3
   },
   "file_extension": ".py",
   "mimetype": "text/x-python",
   "name": "python",
   "nbconvert_exporter": "python",
   "pygments_lexer": "ipython3",
   "version": "3.7.3"
  }
 },
 "nbformat": 4,
 "nbformat_minor": 4
}
